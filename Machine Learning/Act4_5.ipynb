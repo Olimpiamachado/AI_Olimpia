{
 "cells": [
  {
   "cell_type": "markdown",
   "metadata": {},
   "source": [
    "## Actividad 4\n",
    "### Clasificación de cáncer de mama von SVM\n",
    "Muestra un ejemplo de clasifi cación de SVM (Support Vector Machines) para el cáncer de mama. Primero carga la función load_breast_cancer() de los datos de cáncer de mama y luego coloca los datos en un formato DataFrame, utiliza los datos de características como X y el objetivo con¡mo Y, y utiliza traint_test_split() para dividir X e y en conjuntos de entrenamiento y prueba. Específi camente, el 80% de datos son para entrenamiento y el 20% para pruebas. Utiliza los datos de entrenamiento X_train e y_train para entrenar el SVM y usa los datos de prueba X_test para predicciones. Finalmente, imprime la matriz de confusión y el informe de clasifi cación."
   ]
  },
  {
   "cell_type": "code",
   "execution_count": 1,
   "metadata": {},
   "outputs": [
    {
     "name": "stdout",
     "output_type": "stream",
     "text": [
      "['mean radius' 'mean texture' 'mean perimeter' 'mean area'\n",
      " 'mean smoothness' 'mean compactness' 'mean concavity'\n",
      " 'mean concave points' 'mean symmetry' 'mean fractal dimension'\n",
      " 'radius error' 'texture error' 'perimeter error' 'area error'\n",
      " 'smoothness error' 'compactness error' 'concavity error'\n",
      " 'concave points error' 'symmetry error' 'fractal dimension error'\n",
      " 'worst radius' 'worst texture' 'worst perimeter' 'worst area'\n",
      " 'worst smoothness' 'worst compactness' 'worst concavity'\n",
      " 'worst concave points' 'worst symmetry' 'worst fractal dimension']\n",
      "[[1.799e+01 1.038e+01 1.228e+02 ... 2.654e-01 4.601e-01 1.189e-01]\n",
      " [2.057e+01 1.777e+01 1.329e+02 ... 1.860e-01 2.750e-01 8.902e-02]\n",
      " [1.969e+01 2.125e+01 1.300e+02 ... 2.430e-01 3.613e-01 8.758e-02]\n",
      " ...\n",
      " [1.660e+01 2.808e+01 1.083e+02 ... 1.418e-01 2.218e-01 7.820e-02]\n",
      " [2.060e+01 2.933e+01 1.401e+02 ... 2.650e-01 4.087e-01 1.240e-01]\n",
      " [7.760e+00 2.454e+01 4.792e+01 ... 0.000e+00 2.871e-01 7.039e-02]]\n",
      "['malignant' 'benign']\n"
     ]
    }
   ],
   "source": [
    "import pandas as pd\n",
    "from sklearn import datasets\n",
    "from sklearn.model_selection import train_test_split\n",
    "from sklearn.svm import SVC\n",
    "from sklearn.metrics import confusion_matrix, classification_report\n",
    "\n",
    "\n",
    "\n",
    "from sklearn.datasets import load_breast_cancer \n",
    "#Cargar los datos del cancer de mama\n",
    "cancer = load_breast_cancer() \n",
    "print (cancer['feature_names']) \n",
    "print (cancer['data'])\n",
    "print (cancer.target_names) #['malignant' 'benign']"
   ]
  },
  {
   "cell_type": "code",
   "execution_count": 2,
   "metadata": {},
   "outputs": [
    {
     "name": "stdout",
     "output_type": "stream",
     "text": [
      "Matriz de Confusión:\n",
      "[[39  4]\n",
      " [ 1 70]]\n",
      "\n",
      "Informe de Clasificación:\n",
      "              precision    recall  f1-score   support\n",
      "\n",
      "           0       0.97      0.91      0.94        43\n",
      "           1       0.95      0.99      0.97        71\n",
      "\n",
      "    accuracy                           0.96       114\n",
      "   macro avg       0.96      0.95      0.95       114\n",
      "weighted avg       0.96      0.96      0.96       114\n",
      "\n"
     ]
    }
   ],
   "source": [
    "# Colocar los datos en un DataFrame\n",
    "df = pd.DataFrame(data=cancer.data, columns=cancer.feature_names)\n",
    "df['target'] = cancer.target\n",
    "\n",
    "# Definir las características (X) y el objetivo (y)\n",
    "X = df[cancer.feature_names]\n",
    "y = df['target']\n",
    "\n",
    "# Dividir los datos en conjuntos de entrenamiento y prueba (80% entrenamiento, 20% prueba)\n",
    "X_train, X_test, y_train, y_test = train_test_split(X, y, test_size=0.2, random_state=42)\n",
    "\n",
    "# Entrenar el modelo SVM\n",
    "svm = SVC(kernel='linear')\n",
    "svm.fit(X_train, y_train)\n",
    "\n",
    "# Realizar predicciones en el conjunto de prueba\n",
    "y_pred = svm.predict(X_test)\n",
    "\n",
    "# Imprimir la matriz de confusión y el informe de clasificación\n",
    "print(\"Matriz de Confusión:\")\n",
    "print(confusion_matrix(y_test, y_pred))\n",
    "print(\"\\nInforme de Clasificación:\")\n",
    "print(classification_report(y_test, y_pred))\n",
    "\n"
   ]
  },
  {
   "cell_type": "markdown",
   "metadata": {},
   "source": [
    "## Actividad 5\n",
    "### Ejercicio clasificación de árboles de decisión para flores Iris\n",
    "Ejemplo de clasificación de árboles de decisión para flores Iris. En este caso, usa X, y = load_iris(return_X_y=_True) para cargar los datos de Iris y devuelve los datos con X e y, usando las cuatro características de los datos. Luego divide los datos en el conjunto de entrenamiento y el conjunto de prueba. Luego entrena el modelo clasificador del árbol de decisión y haz predicciones en el conjunto de prueba. También calcula y muestra el número total de puntos, así como el número de puntos que se pronosticaron correctamente."
   ]
  },
  {
   "cell_type": "code",
   "execution_count": 3,
   "metadata": {},
   "outputs": [
    {
     "name": "stdout",
     "output_type": "stream",
     "text": [
      "Número total de puntos: 30\n",
      "Número de puntos correctamente predichos: 30\n",
      "Precisión del modelo: 1.00\n"
     ]
    }
   ],
   "source": [
    "import pandas as pd\n",
    "from sklearn import datasets\n",
    "from sklearn.model_selection import train_test_split\n",
    "from sklearn.tree import DecisionTreeClassifier\n",
    "from sklearn.metrics import accuracy_score\n",
    "\n",
    "# Cargar los datos de Iris\n",
    "X, y = datasets.load_iris(return_X_y=True)\n",
    "\n",
    "# Dividir los datos en conjuntos de entrenamiento y prueba (80% entrenamiento, 20% prueba)\n",
    "X_train, X_test, y_train, y_test = train_test_split(X, y, test_size=0.2, random_state=42)\n",
    "\n",
    "# Entrenar el modelo de árbol de decisión\n",
    "clf = DecisionTreeClassifier()\n",
    "clf.fit(X_train, y_train)\n",
    "\n",
    "# Realizar predicciones en el conjunto de prueba\n",
    "y_pred = clf.predict(X_test)\n",
    "\n",
    "# Calcular y mostrar el número total de puntos y el número de puntos correctamente predichos\n",
    "total_points = len(y_test)\n",
    "correctly_predicted = accuracy_score(y_test, y_pred) * total_points\n",
    "\n",
    "print(f\"Número total de puntos: {total_points}\")\n",
    "print(f\"Número de puntos correctamente predichos: {correctly_predicted:.0f}\")\n",
    "print(f\"Precisión del modelo: {accuracy_score(y_test, y_pred):.2f}\")"
   ]
  }
 ],
 "metadata": {
  "kernelspec": {
   "display_name": "actividades_evaluables",
   "language": "python",
   "name": "python3"
  },
  "language_info": {
   "codemirror_mode": {
    "name": "ipython",
    "version": 3
   },
   "file_extension": ".py",
   "mimetype": "text/x-python",
   "name": "python",
   "nbconvert_exporter": "python",
   "pygments_lexer": "ipython3",
   "version": "3.12.9"
  }
 },
 "nbformat": 4,
 "nbformat_minor": 2
}
