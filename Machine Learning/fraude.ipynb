{
 "cells": [
  {
   "cell_type": "markdown",
   "metadata": {},
   "source": [
    "## Actividad práctica: Análisis de precisión vs. recall en la detección de fraude\n",
    "Objetivo:\n",
    "Los estudiantes deben aprender a diferenciar entre precisión y recall, y entender por qué recall es más importante que precisión en situaciones como la detección de fraude, donde los falsos negativos pueden ser muy costosos.\n",
    "Descripción del experimento:\n",
    "1. Cargar y preprocesar los datos: Utilizaremos un conjunto de datos simulado o el conjunto de datos de detección de fraude (puedes usar cualquier conjunto de datos donde la clase positiva esté muy desbalanceada).\n",
    "2. Entrenar un modelo de clasificación: Los estudiantes entrenarán un modelo (como un Random Forest o un Árbol de Decisión) para predecir si una transacción es fraudulenta o no.\n",
    "3. Evaluar el modelo con precisión y recall: Los estudiantes evaluarán el modelo utilizando tanto precisión como recall, observando las diferencias en estas métricas cuando las clases están desbalanceadas.\n",
    "4. Analizar el impacto de un alto recall: Los estudiantes observarán los efectos de priorizar recall sobre precisión, viendo cómo el modelo puede tener una mayor tasa de falsos positivos pero aún así capturar más fraudes."
   ]
  },
  {
   "cell_type": "code",
   "execution_count": 4,
   "metadata": {},
   "outputs": [],
   "source": [
    "import pandas as pd\n",
    "from sklearn.datasets import make_classification\n",
    "from sklearn.model_selection import train_test_split\n",
    "from sklearn.ensemble import RandomForestClassifier\n",
    "from sklearn.metrics import accuracy_score, precision_score, recall_score\n",
    "import matplotlib.pyplot as plt\n",
    "import seaborn as sns\n"
   ]
  },
  {
   "cell_type": "code",
   "execution_count": 5,
   "metadata": {},
   "outputs": [
    {
     "name": "stdout",
     "output_type": "stream",
     "text": [
      "Precision: 1.0\n",
      "Recall: 0.7222222222222222\n",
      "Accuracy: 0.9833333333333333\n"
     ]
    }
   ],
   "source": [
    "#Crear el conjunto de datos simulados\n",
    "X, y = make_classification(\n",
    "    n_samples=1000,\n",
    "    n_features=20,\n",
    "    n_classes=2,\n",
    "    n_informative=2,\n",
    "    n_redundant=10,\n",
    "    weights=[0.95, 0.05],\n",
    "    flip_y = 0,\n",
    "    random_state=42\n",
    ")\n",
    "\n",
    "\n",
    "#Dividir el conjunto de datos en entrenamiento y prueba\n",
    "X_train, X_test, y_train, y_test = train_test_split(X, y, test_size=0.3, random_state=42)\n",
    "\n",
    "#Crear un modelo de bosque aleatorio\n",
    "model = RandomForestClassifier(n_estimators=100, random_state=42)\n",
    "\n",
    "#Entrenar el modelo\n",
    "model.fit(X_train, y_train)\n",
    "\n",
    "#Hacer predicciones\n",
    "y_pred = model.predict(X_test)\n",
    "\n",
    "#Calcular la precisión\n",
    "precision = precision_score(y_test, y_pred)\n",
    "\n",
    "#Calcular el recall\n",
    "recall = recall_score(y_test, y_pred)\n",
    "\n",
    "#Calcular la exactitud\n",
    "accuracy= accuracy_score(y_test, y_pred)\n",
    "\n",
    "#imprimir las métricas\n",
    "print(f'Precision: {precision}')\n",
    "print(f'Recall: {recall}')\n",
    "print(f'Accuracy: {accuracy}')\n",
    "\n"
   ]
  }
 ],
 "metadata": {
  "kernelspec": {
   "display_name": "actividades_evaluables",
   "language": "python",
   "name": "python3"
  },
  "language_info": {
   "codemirror_mode": {
    "name": "ipython",
    "version": 3
   },
   "file_extension": ".py",
   "mimetype": "text/x-python",
   "name": "python",
   "nbconvert_exporter": "python",
   "pygments_lexer": "ipython3",
   "version": "3.12.9"
  }
 },
 "nbformat": 4,
 "nbformat_minor": 2
}
