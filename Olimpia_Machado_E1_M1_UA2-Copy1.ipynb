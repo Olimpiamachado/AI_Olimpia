{
 "cells": [
  {
   "cell_type": "markdown",
   "id": "d867c95a-9ed5-4fc7-9c72-c7a4c00bcc6c",
   "metadata": {},
   "source": [
    "# E1: Análisis Exploratorio de Datos en Python con Pandas y NumPy"
   ]
  },
  {
   "cell_type": "markdown",
   "id": "d95214ae-93ff-4050-9c1a-b5c785db7f15",
   "metadata": {},
   "source": [
    "En esta prueba práctica, los estudiantes aplicarán sus conocimientos en Python y herramientas de análisis de datos dentro del entorno Jupyter Notebook. A partir de un dataset ficticio de pacientes, deberán demostrar su capacidad para:\n",
    "- Configurar el entorno de trabajo en Anaconda y Jupyter Notebook.\n",
    "- Utilizar Pandas y NumPy para la manipulación y exploración de datos.\n",
    "- Aplicar operaciones estadísticas básicas para extraer información relevante.\n",
    "- Generar visualizaciones de datos con Matplotlib.\n",
    "\n",
    "Este ejercicio tiene como objetivo evaluar la habilidad del estudiante para trabajar con datos en Python, desde su carga y preprocesamiento hasta su análisis y visualización. Se espera que los participantes estructuren su código de manera clara y utilicen buenas prácticas de programación.\n"
   ]
  },
  {
   "cell_type": "markdown",
   "id": "72b3cdf8-242a-4d8b-841c-80ab85670d23",
   "metadata": {},
   "source": [
    "#### Configuración del Entorno:\n",
    "\n",
    "- Verifica que las librerías necesarias (numpy y pandas) estén instaladas en tu entorno. Si no lo están, instálalas usando pip o conda.\n",
    "- Importa las librerías necesarias (numpy, pandas, matplotlib.pyplot) y muestra sus versiones en el notebook."
   ]
  },
  {
   "cell_type": "code",
   "execution_count": 1,
   "id": "5ec9ed6a-2e4a-41a4-9dfd-b788be6d2031",
   "metadata": {},
   "outputs": [
    {
     "data": {
      "text/plain": [
       "'2.2.3'"
      ]
     },
     "execution_count": 1,
     "metadata": {},
     "output_type": "execute_result"
    }
   ],
   "source": [
    "#Verifico e importo las librerías.\n",
    "import numpy as np\n",
    "import pandas as pd\n",
    "#Para comprobar la versión.\n",
    "np.__version__\n",
    "pd.__version__"
   ]
  },
  {
   "cell_type": "markdown",
   "id": "288d8028-aa7e-44b6-a9fc-e2c415f1a403",
   "metadata": {},
   "source": [
    "#### Carga y Exploración de Datos:\n",
    "\n",
    "- Descarga y carga el archivo datos_pacientes.csv en un DataFrame de Pandas.\n",
    "- Muestra las primeras 5 filas del dataset.\n",
    "- Obtén información sobre los tipos de datos y verifica la existencia de valores nulos en el dataset.\n"
   ]
  },
  {
   "cell_type": "code",
   "execution_count": 2,
   "id": "0a24c642-ee3b-4d50-b8be-40585df9917d",
   "metadata": {},
   "outputs": [
    {
     "ename": "FileNotFoundError",
     "evalue": "[Errno 2] No such file or directory: 'datos_pacientes.csv'",
     "output_type": "error",
     "traceback": [
      "\u001b[1;31m---------------------------------------------------------------------------\u001b[0m",
      "\u001b[1;31mFileNotFoundError\u001b[0m                         Traceback (most recent call last)",
      "Cell \u001b[1;32mIn[2], line 2\u001b[0m\n\u001b[0;32m      1\u001b[0m \u001b[38;5;66;03m#Cargo el archivo en un dataframe:\u001b[39;00m\n\u001b[1;32m----> 2\u001b[0m df \u001b[38;5;241m=\u001b[39m pd\u001b[38;5;241m.\u001b[39mread_csv(\u001b[38;5;124m'\u001b[39m\u001b[38;5;124mdatos_pacientes.csv\u001b[39m\u001b[38;5;124m'\u001b[39m, index_col \u001b[38;5;241m=\u001b[39m [\u001b[38;5;124m'\u001b[39m\u001b[38;5;124mID\u001b[39m\u001b[38;5;124m'\u001b[39m])\n\u001b[0;32m      3\u001b[0m \u001b[38;5;28mprint\u001b[39m (df)\n\u001b[0;32m      5\u001b[0m \u001b[38;5;66;03m#Muestro las 5 primeras filas:\u001b[39;00m\n",
      "File \u001b[1;32m~\\anaconda3\\envs\\python\\Lib\\site-packages\\pandas\\io\\parsers\\readers.py:1026\u001b[0m, in \u001b[0;36mread_csv\u001b[1;34m(filepath_or_buffer, sep, delimiter, header, names, index_col, usecols, dtype, engine, converters, true_values, false_values, skipinitialspace, skiprows, skipfooter, nrows, na_values, keep_default_na, na_filter, verbose, skip_blank_lines, parse_dates, infer_datetime_format, keep_date_col, date_parser, date_format, dayfirst, cache_dates, iterator, chunksize, compression, thousands, decimal, lineterminator, quotechar, quoting, doublequote, escapechar, comment, encoding, encoding_errors, dialect, on_bad_lines, delim_whitespace, low_memory, memory_map, float_precision, storage_options, dtype_backend)\u001b[0m\n\u001b[0;32m   1013\u001b[0m kwds_defaults \u001b[38;5;241m=\u001b[39m _refine_defaults_read(\n\u001b[0;32m   1014\u001b[0m     dialect,\n\u001b[0;32m   1015\u001b[0m     delimiter,\n\u001b[1;32m   (...)\u001b[0m\n\u001b[0;32m   1022\u001b[0m     dtype_backend\u001b[38;5;241m=\u001b[39mdtype_backend,\n\u001b[0;32m   1023\u001b[0m )\n\u001b[0;32m   1024\u001b[0m kwds\u001b[38;5;241m.\u001b[39mupdate(kwds_defaults)\n\u001b[1;32m-> 1026\u001b[0m \u001b[38;5;28;01mreturn\u001b[39;00m _read(filepath_or_buffer, kwds)\n",
      "File \u001b[1;32m~\\anaconda3\\envs\\python\\Lib\\site-packages\\pandas\\io\\parsers\\readers.py:620\u001b[0m, in \u001b[0;36m_read\u001b[1;34m(filepath_or_buffer, kwds)\u001b[0m\n\u001b[0;32m    617\u001b[0m _validate_names(kwds\u001b[38;5;241m.\u001b[39mget(\u001b[38;5;124m\"\u001b[39m\u001b[38;5;124mnames\u001b[39m\u001b[38;5;124m\"\u001b[39m, \u001b[38;5;28;01mNone\u001b[39;00m))\n\u001b[0;32m    619\u001b[0m \u001b[38;5;66;03m# Create the parser.\u001b[39;00m\n\u001b[1;32m--> 620\u001b[0m parser \u001b[38;5;241m=\u001b[39m TextFileReader(filepath_or_buffer, \u001b[38;5;241m*\u001b[39m\u001b[38;5;241m*\u001b[39mkwds)\n\u001b[0;32m    622\u001b[0m \u001b[38;5;28;01mif\u001b[39;00m chunksize \u001b[38;5;129;01mor\u001b[39;00m iterator:\n\u001b[0;32m    623\u001b[0m     \u001b[38;5;28;01mreturn\u001b[39;00m parser\n",
      "File \u001b[1;32m~\\anaconda3\\envs\\python\\Lib\\site-packages\\pandas\\io\\parsers\\readers.py:1620\u001b[0m, in \u001b[0;36mTextFileReader.__init__\u001b[1;34m(self, f, engine, **kwds)\u001b[0m\n\u001b[0;32m   1617\u001b[0m     \u001b[38;5;28mself\u001b[39m\u001b[38;5;241m.\u001b[39moptions[\u001b[38;5;124m\"\u001b[39m\u001b[38;5;124mhas_index_names\u001b[39m\u001b[38;5;124m\"\u001b[39m] \u001b[38;5;241m=\u001b[39m kwds[\u001b[38;5;124m\"\u001b[39m\u001b[38;5;124mhas_index_names\u001b[39m\u001b[38;5;124m\"\u001b[39m]\n\u001b[0;32m   1619\u001b[0m \u001b[38;5;28mself\u001b[39m\u001b[38;5;241m.\u001b[39mhandles: IOHandles \u001b[38;5;241m|\u001b[39m \u001b[38;5;28;01mNone\u001b[39;00m \u001b[38;5;241m=\u001b[39m \u001b[38;5;28;01mNone\u001b[39;00m\n\u001b[1;32m-> 1620\u001b[0m \u001b[38;5;28mself\u001b[39m\u001b[38;5;241m.\u001b[39m_engine \u001b[38;5;241m=\u001b[39m \u001b[38;5;28mself\u001b[39m\u001b[38;5;241m.\u001b[39m_make_engine(f, \u001b[38;5;28mself\u001b[39m\u001b[38;5;241m.\u001b[39mengine)\n",
      "File \u001b[1;32m~\\anaconda3\\envs\\python\\Lib\\site-packages\\pandas\\io\\parsers\\readers.py:1880\u001b[0m, in \u001b[0;36mTextFileReader._make_engine\u001b[1;34m(self, f, engine)\u001b[0m\n\u001b[0;32m   1878\u001b[0m     \u001b[38;5;28;01mif\u001b[39;00m \u001b[38;5;124m\"\u001b[39m\u001b[38;5;124mb\u001b[39m\u001b[38;5;124m\"\u001b[39m \u001b[38;5;129;01mnot\u001b[39;00m \u001b[38;5;129;01min\u001b[39;00m mode:\n\u001b[0;32m   1879\u001b[0m         mode \u001b[38;5;241m+\u001b[39m\u001b[38;5;241m=\u001b[39m \u001b[38;5;124m\"\u001b[39m\u001b[38;5;124mb\u001b[39m\u001b[38;5;124m\"\u001b[39m\n\u001b[1;32m-> 1880\u001b[0m \u001b[38;5;28mself\u001b[39m\u001b[38;5;241m.\u001b[39mhandles \u001b[38;5;241m=\u001b[39m get_handle(\n\u001b[0;32m   1881\u001b[0m     f,\n\u001b[0;32m   1882\u001b[0m     mode,\n\u001b[0;32m   1883\u001b[0m     encoding\u001b[38;5;241m=\u001b[39m\u001b[38;5;28mself\u001b[39m\u001b[38;5;241m.\u001b[39moptions\u001b[38;5;241m.\u001b[39mget(\u001b[38;5;124m\"\u001b[39m\u001b[38;5;124mencoding\u001b[39m\u001b[38;5;124m\"\u001b[39m, \u001b[38;5;28;01mNone\u001b[39;00m),\n\u001b[0;32m   1884\u001b[0m     compression\u001b[38;5;241m=\u001b[39m\u001b[38;5;28mself\u001b[39m\u001b[38;5;241m.\u001b[39moptions\u001b[38;5;241m.\u001b[39mget(\u001b[38;5;124m\"\u001b[39m\u001b[38;5;124mcompression\u001b[39m\u001b[38;5;124m\"\u001b[39m, \u001b[38;5;28;01mNone\u001b[39;00m),\n\u001b[0;32m   1885\u001b[0m     memory_map\u001b[38;5;241m=\u001b[39m\u001b[38;5;28mself\u001b[39m\u001b[38;5;241m.\u001b[39moptions\u001b[38;5;241m.\u001b[39mget(\u001b[38;5;124m\"\u001b[39m\u001b[38;5;124mmemory_map\u001b[39m\u001b[38;5;124m\"\u001b[39m, \u001b[38;5;28;01mFalse\u001b[39;00m),\n\u001b[0;32m   1886\u001b[0m     is_text\u001b[38;5;241m=\u001b[39mis_text,\n\u001b[0;32m   1887\u001b[0m     errors\u001b[38;5;241m=\u001b[39m\u001b[38;5;28mself\u001b[39m\u001b[38;5;241m.\u001b[39moptions\u001b[38;5;241m.\u001b[39mget(\u001b[38;5;124m\"\u001b[39m\u001b[38;5;124mencoding_errors\u001b[39m\u001b[38;5;124m\"\u001b[39m, \u001b[38;5;124m\"\u001b[39m\u001b[38;5;124mstrict\u001b[39m\u001b[38;5;124m\"\u001b[39m),\n\u001b[0;32m   1888\u001b[0m     storage_options\u001b[38;5;241m=\u001b[39m\u001b[38;5;28mself\u001b[39m\u001b[38;5;241m.\u001b[39moptions\u001b[38;5;241m.\u001b[39mget(\u001b[38;5;124m\"\u001b[39m\u001b[38;5;124mstorage_options\u001b[39m\u001b[38;5;124m\"\u001b[39m, \u001b[38;5;28;01mNone\u001b[39;00m),\n\u001b[0;32m   1889\u001b[0m )\n\u001b[0;32m   1890\u001b[0m \u001b[38;5;28;01massert\u001b[39;00m \u001b[38;5;28mself\u001b[39m\u001b[38;5;241m.\u001b[39mhandles \u001b[38;5;129;01mis\u001b[39;00m \u001b[38;5;129;01mnot\u001b[39;00m \u001b[38;5;28;01mNone\u001b[39;00m\n\u001b[0;32m   1891\u001b[0m f \u001b[38;5;241m=\u001b[39m \u001b[38;5;28mself\u001b[39m\u001b[38;5;241m.\u001b[39mhandles\u001b[38;5;241m.\u001b[39mhandle\n",
      "File \u001b[1;32m~\\anaconda3\\envs\\python\\Lib\\site-packages\\pandas\\io\\common.py:873\u001b[0m, in \u001b[0;36mget_handle\u001b[1;34m(path_or_buf, mode, encoding, compression, memory_map, is_text, errors, storage_options)\u001b[0m\n\u001b[0;32m    868\u001b[0m \u001b[38;5;28;01melif\u001b[39;00m \u001b[38;5;28misinstance\u001b[39m(handle, \u001b[38;5;28mstr\u001b[39m):\n\u001b[0;32m    869\u001b[0m     \u001b[38;5;66;03m# Check whether the filename is to be opened in binary mode.\u001b[39;00m\n\u001b[0;32m    870\u001b[0m     \u001b[38;5;66;03m# Binary mode does not support 'encoding' and 'newline'.\u001b[39;00m\n\u001b[0;32m    871\u001b[0m     \u001b[38;5;28;01mif\u001b[39;00m ioargs\u001b[38;5;241m.\u001b[39mencoding \u001b[38;5;129;01mand\u001b[39;00m \u001b[38;5;124m\"\u001b[39m\u001b[38;5;124mb\u001b[39m\u001b[38;5;124m\"\u001b[39m \u001b[38;5;129;01mnot\u001b[39;00m \u001b[38;5;129;01min\u001b[39;00m ioargs\u001b[38;5;241m.\u001b[39mmode:\n\u001b[0;32m    872\u001b[0m         \u001b[38;5;66;03m# Encoding\u001b[39;00m\n\u001b[1;32m--> 873\u001b[0m         handle \u001b[38;5;241m=\u001b[39m \u001b[38;5;28mopen\u001b[39m(\n\u001b[0;32m    874\u001b[0m             handle,\n\u001b[0;32m    875\u001b[0m             ioargs\u001b[38;5;241m.\u001b[39mmode,\n\u001b[0;32m    876\u001b[0m             encoding\u001b[38;5;241m=\u001b[39mioargs\u001b[38;5;241m.\u001b[39mencoding,\n\u001b[0;32m    877\u001b[0m             errors\u001b[38;5;241m=\u001b[39merrors,\n\u001b[0;32m    878\u001b[0m             newline\u001b[38;5;241m=\u001b[39m\u001b[38;5;124m\"\u001b[39m\u001b[38;5;124m\"\u001b[39m,\n\u001b[0;32m    879\u001b[0m         )\n\u001b[0;32m    880\u001b[0m     \u001b[38;5;28;01melse\u001b[39;00m:\n\u001b[0;32m    881\u001b[0m         \u001b[38;5;66;03m# Binary mode\u001b[39;00m\n\u001b[0;32m    882\u001b[0m         handle \u001b[38;5;241m=\u001b[39m \u001b[38;5;28mopen\u001b[39m(handle, ioargs\u001b[38;5;241m.\u001b[39mmode)\n",
      "\u001b[1;31mFileNotFoundError\u001b[0m: [Errno 2] No such file or directory: 'datos_pacientes.csv'"
     ]
    }
   ],
   "source": [
    "#Cargo el archivo en un dataframe:\n",
    "df = pd.read_csv('datos_pacientes.csv', index_col = ['ID'])\n",
    "print (df)\n",
    "\n",
    "#Muestro las 5 primeras filas:\n",
    "df.head()\n",
    "\n"
   ]
  },
  {
   "cell_type": "code",
   "execution_count": null,
   "id": "5e3f20aa-c504-418e-9c98-576d9484f3d6",
   "metadata": {},
   "outputs": [],
   "source": [
    "#Info del tipo de datos:\n",
    "df.info()\n",
    "#Nos da información del tipo de datos para cada columna, y si existen valores nulos(en este caso no)\n",
    "\n",
    "print(df.isnull().sum())\n",
    "\n",
    "\n"
   ]
  },
  {
   "cell_type": "markdown",
   "id": "ca82ba59-cd41-41db-9931-f96cdb4b5055",
   "metadata": {},
   "source": [
    "#### Análisis Estadístico con Pandas:\n",
    "\n",
    "- Muestra un resumen estadístico de las variables numéricas.\n",
    "- Calcula la edad promedio de los pacientes y el número de pacientes por género.\n",
    "- Identifica cuántos pacientes tienen una presión arterial superior a 130 mmHg."
   ]
  },
  {
   "cell_type": "code",
   "execution_count": null,
   "id": "3ed4b329-9548-4426-84b6-c2da7d09ffed",
   "metadata": {},
   "outputs": [],
   "source": [
    "# Muestra un resumen estadístico de las variables numéricas.\n",
    "df.describe()"
   ]
  },
  {
   "cell_type": "code",
   "execution_count": null,
   "id": "202d30be-c980-4a4d-b75c-9d0d7f08b152",
   "metadata": {},
   "outputs": [],
   "source": [
    "# Calcula la edad promedio de los pacientes  \n",
    "edad_promedio = df['Edad'].mean()\n",
    "print(f'La edad promedio es: {edad_promedio}')\n",
    "\n",
    "# Número de pacientes por género.\n",
    "conteo_genero = df['Género'].value_counts()\n",
    "print('Número de pacientes por género:', conteo_genero)\n",
    "\n",
    "#Otra forma\n",
    "#femeninos = df['Género'].str.count('F')\n",
    "#pacientes_femeninos = femeninos.sum()\n",
    "#pacientes_masculinos = totales - pacientes_femeninos\n",
    "#print(f'Pacientes femeninos: {pacientes_femeninos}, Pacientes masculinos: {pacientes_masculinos}')\n",
    "\n"
   ]
  },
  {
   "cell_type": "code",
   "execution_count": 3,
   "id": "2d0738b4-4ccd-4ac9-8ffc-405ec31abf37",
   "metadata": {},
   "outputs": [
    {
     "ename": "NameError",
     "evalue": "name 'df' is not defined",
     "output_type": "error",
     "traceback": [
      "\u001b[1;31m---------------------------------------------------------------------------\u001b[0m",
      "\u001b[1;31mNameError\u001b[0m                                 Traceback (most recent call last)",
      "Cell \u001b[1;32mIn[3], line 2\u001b[0m\n\u001b[0;32m      1\u001b[0m \u001b[38;5;66;03m# Identifica cuántos pacientes tienen una presión arterial superior a 130 mmHg.\u001b[39;00m\n\u001b[1;32m----> 2\u001b[0m pacientes_presion_alta \u001b[38;5;241m=\u001b[39m df[df[\u001b[38;5;124m'\u001b[39m\u001b[38;5;124mPresión_Arterial\u001b[39m\u001b[38;5;124m'\u001b[39m] \u001b[38;5;241m>\u001b[39m \u001b[38;5;241m130\u001b[39m]\n\u001b[0;32m      3\u001b[0m numero_pacientes \u001b[38;5;241m=\u001b[39m pacientes_presion_alta\u001b[38;5;241m.\u001b[39mshape[\u001b[38;5;241m0\u001b[39m]\n\u001b[0;32m      4\u001b[0m \u001b[38;5;28mprint\u001b[39m(\u001b[38;5;124mf\u001b[39m\u001b[38;5;124m'\u001b[39m\u001b[38;5;124mNúmero de pacientes con presión alta: \u001b[39m\u001b[38;5;132;01m{\u001b[39;00m\u001b[38;5;250m \u001b[39mnumero_pacientes\u001b[38;5;132;01m}\u001b[39;00m\u001b[38;5;124m'\u001b[39m)\n",
      "\u001b[1;31mNameError\u001b[0m: name 'df' is not defined"
     ]
    }
   ],
   "source": [
    "# Identifica cuántos pacientes tienen una presión arterial superior a 130 mmHg.\n",
    "pacientes_presion_alta = df[df['Presión_Arterial'] > 130]\n",
    "numero_pacientes = pacientes_presion_alta.shape[0]\n",
    "print(f'Número de pacientes con presión alta: { numero_pacientes}')\n",
    "\n",
    "#df[df['Presión_Arterial'] > 130] #Me muestra los datos de los pacientes con presión > 130. Puedo ver que son 555\n",
    "#df[df['Presión_Arterial'] > 130].count() #Me da el nº de pacientes con presión > 130 (555)\n"
   ]
  },
  {
   "attachments": {},
   "cell_type": "markdown",
   "id": "1a0fffd9-335b-4731-8e69-5ebf826318cc",
   "metadata": {},
   "source": [
    "#### Manipulación de Datos con NumPy y Pandas:\n",
    "\n",
    "- Crea una nueva columna llamada IMC (Índice de Masa Corporal, BMI) utilizando la fórmula: \n",
    "\n",
    "<img src=https://www.eufic.org/en/media/images/2.2._bmi_img_1_.png width=\"250\">\n",
    "\n",
    "- Agrega una columna categórica Estado_IMC que clasifique a los pacientes en:\n",
    "    - Bajo peso (IMC < 18.5)\n",
    "    - Normal (IMC entre 18.5 y 24.9)\n",
    "    - Sobrepeso (IMC entre 25 y 29.9)\n",
    "    - Obesidad (IMC >= 30)\n",
    "- Muestra la cantidad de pacientes en cada categoría de Estado_IMC.\n"
   ]
  },
  {
   "cell_type": "code",
   "execution_count": 7,
   "id": "a7706be6-2b2b-4ddc-9ea9-cd6f010f293f",
   "metadata": {},
   "outputs": [
    {
     "data": {
      "text/html": [
       "<div>\n",
       "<style scoped>\n",
       "    .dataframe tbody tr th:only-of-type {\n",
       "        vertical-align: middle;\n",
       "    }\n",
       "\n",
       "    .dataframe tbody tr th {\n",
       "        vertical-align: top;\n",
       "    }\n",
       "\n",
       "    .dataframe thead th {\n",
       "        text-align: right;\n",
       "    }\n",
       "</style>\n",
       "<table border=\"1\" class=\"dataframe\">\n",
       "  <thead>\n",
       "    <tr style=\"text-align: right;\">\n",
       "      <th></th>\n",
       "      <th>Edad</th>\n",
       "      <th>Género</th>\n",
       "      <th>Peso</th>\n",
       "      <th>Altura</th>\n",
       "      <th>Presión_Arterial</th>\n",
       "      <th>IMC</th>\n",
       "    </tr>\n",
       "    <tr>\n",
       "      <th>ID</th>\n",
       "      <th></th>\n",
       "      <th></th>\n",
       "      <th></th>\n",
       "      <th></th>\n",
       "      <th></th>\n",
       "      <th></th>\n",
       "    </tr>\n",
       "  </thead>\n",
       "  <tbody>\n",
       "    <tr>\n",
       "      <th>1</th>\n",
       "      <td>71</td>\n",
       "      <td>F</td>\n",
       "      <td>116.4</td>\n",
       "      <td>1.69</td>\n",
       "      <td>143</td>\n",
       "      <td>40.754876</td>\n",
       "    </tr>\n",
       "    <tr>\n",
       "      <th>2</th>\n",
       "      <td>34</td>\n",
       "      <td>M</td>\n",
       "      <td>67.7</td>\n",
       "      <td>1.50</td>\n",
       "      <td>127</td>\n",
       "      <td>30.088889</td>\n",
       "    </tr>\n",
       "    <tr>\n",
       "      <th>3</th>\n",
       "      <td>80</td>\n",
       "      <td>M</td>\n",
       "      <td>75.1</td>\n",
       "      <td>1.69</td>\n",
       "      <td>137</td>\n",
       "      <td>26.294598</td>\n",
       "    </tr>\n",
       "    <tr>\n",
       "      <th>4</th>\n",
       "      <td>40</td>\n",
       "      <td>M</td>\n",
       "      <td>76.6</td>\n",
       "      <td>1.90</td>\n",
       "      <td>116</td>\n",
       "      <td>21.218837</td>\n",
       "    </tr>\n",
       "    <tr>\n",
       "      <th>5</th>\n",
       "      <td>43</td>\n",
       "      <td>M</td>\n",
       "      <td>92.4</td>\n",
       "      <td>1.80</td>\n",
       "      <td>109</td>\n",
       "      <td>28.518519</td>\n",
       "    </tr>\n",
       "  </tbody>\n",
       "</table>\n",
       "</div>"
      ],
      "text/plain": [
       "    Edad Género   Peso  Altura  Presión_Arterial        IMC\n",
       "ID                                                         \n",
       "1     71      F  116.4    1.69               143  40.754876\n",
       "2     34      M   67.7    1.50               127  30.088889\n",
       "3     80      M   75.1    1.69               137  26.294598\n",
       "4     40      M   76.6    1.90               116  21.218837\n",
       "5     43      M   92.4    1.80               109  28.518519"
      ]
     },
     "execution_count": 7,
     "metadata": {},
     "output_type": "execute_result"
    }
   ],
   "source": [
    "#Agregar una columna IMC\n",
    "df['IMC'] = df['Peso'] / ( df['Altura'] * df['Altura'])\n",
    "df.head()"
   ]
  },
  {
   "cell_type": "code",
   "execution_count": 8,
   "id": "fd118627-ecf5-43a0-ab1d-6f0d7bb4ed06",
   "metadata": {},
   "outputs": [
    {
     "data": {
      "text/html": [
       "<div>\n",
       "<style scoped>\n",
       "    .dataframe tbody tr th:only-of-type {\n",
       "        vertical-align: middle;\n",
       "    }\n",
       "\n",
       "    .dataframe tbody tr th {\n",
       "        vertical-align: top;\n",
       "    }\n",
       "\n",
       "    .dataframe thead th {\n",
       "        text-align: right;\n",
       "    }\n",
       "</style>\n",
       "<table border=\"1\" class=\"dataframe\">\n",
       "  <thead>\n",
       "    <tr style=\"text-align: right;\">\n",
       "      <th></th>\n",
       "      <th>Edad</th>\n",
       "      <th>Género</th>\n",
       "      <th>Peso</th>\n",
       "      <th>Altura</th>\n",
       "      <th>Presión_Arterial</th>\n",
       "      <th>IMC</th>\n",
       "      <th>Estado_IMC</th>\n",
       "    </tr>\n",
       "    <tr>\n",
       "      <th>ID</th>\n",
       "      <th></th>\n",
       "      <th></th>\n",
       "      <th></th>\n",
       "      <th></th>\n",
       "      <th></th>\n",
       "      <th></th>\n",
       "      <th></th>\n",
       "    </tr>\n",
       "  </thead>\n",
       "  <tbody>\n",
       "    <tr>\n",
       "      <th>1</th>\n",
       "      <td>71</td>\n",
       "      <td>F</td>\n",
       "      <td>116.4</td>\n",
       "      <td>1.69</td>\n",
       "      <td>143</td>\n",
       "      <td>40.754876</td>\n",
       "      <td>Obesidad</td>\n",
       "    </tr>\n",
       "    <tr>\n",
       "      <th>2</th>\n",
       "      <td>34</td>\n",
       "      <td>M</td>\n",
       "      <td>67.7</td>\n",
       "      <td>1.50</td>\n",
       "      <td>127</td>\n",
       "      <td>30.088889</td>\n",
       "      <td>Obesidad</td>\n",
       "    </tr>\n",
       "    <tr>\n",
       "      <th>3</th>\n",
       "      <td>80</td>\n",
       "      <td>M</td>\n",
       "      <td>75.1</td>\n",
       "      <td>1.69</td>\n",
       "      <td>137</td>\n",
       "      <td>26.294598</td>\n",
       "      <td>Sobrepeso</td>\n",
       "    </tr>\n",
       "    <tr>\n",
       "      <th>4</th>\n",
       "      <td>40</td>\n",
       "      <td>M</td>\n",
       "      <td>76.6</td>\n",
       "      <td>1.90</td>\n",
       "      <td>116</td>\n",
       "      <td>21.218837</td>\n",
       "      <td>Peso Normal</td>\n",
       "    </tr>\n",
       "    <tr>\n",
       "      <th>5</th>\n",
       "      <td>43</td>\n",
       "      <td>M</td>\n",
       "      <td>92.4</td>\n",
       "      <td>1.80</td>\n",
       "      <td>109</td>\n",
       "      <td>28.518519</td>\n",
       "      <td>Sobrepeso</td>\n",
       "    </tr>\n",
       "  </tbody>\n",
       "</table>\n",
       "</div>"
      ],
      "text/plain": [
       "    Edad Género   Peso  Altura  Presión_Arterial        IMC   Estado_IMC\n",
       "ID                                                                      \n",
       "1     71      F  116.4    1.69               143  40.754876     Obesidad\n",
       "2     34      M   67.7    1.50               127  30.088889     Obesidad\n",
       "3     80      M   75.1    1.69               137  26.294598    Sobrepeso\n",
       "4     40      M   76.6    1.90               116  21.218837  Peso Normal\n",
       "5     43      M   92.4    1.80               109  28.518519    Sobrepeso"
      ]
     },
     "execution_count": 8,
     "metadata": {},
     "output_type": "execute_result"
    }
   ],
   "source": [
    "#Agrega una columna categórica Estado_IMC\n",
    "\n",
    "def clasificar_IMC(imc):\n",
    "    if imc < 18.5:\n",
    "       return 'Bajo Peso'\n",
    "    elif 18.5 <= imc <= 24.9:\n",
    "        return 'Peso Normal'\n",
    "    elif 24.9 < imc <= 29.9:\n",
    "        return 'Sobrepeso'\n",
    "    else:\n",
    "        return 'Obesidad'\n",
    "\n",
    "df['Estado_IMC'] = df['IMC'].apply(clasificar_IMC)\n",
    "df.head()\n",
    "\n",
    "    \n",
    "    "
   ]
  },
  {
   "cell_type": "code",
   "execution_count": 9,
   "id": "8c1ac242-59f1-459d-b456-1c3b0ea7166f",
   "metadata": {},
   "outputs": [
    {
     "name": "stdout",
     "output_type": "stream",
     "text": [
      "Cantidad de pacientes en cada categoría IMC: Estado_IMC\n",
      "Obesidad       391\n",
      "Peso Normal    249\n",
      "Sobrepeso      223\n",
      "Bajo Peso      137\n",
      "Name: count, dtype: int64\n"
     ]
    }
   ],
   "source": [
    "#Muestra la cantidad de pacientes en cada categoría de Estado_IMC.\n",
    "\n",
    "# df[df['Estado_IMC']=='Bajo Peso']\n",
    "conteo_IMC = df['Estado_IMC'].value_counts()\n",
    "print('Cantidad de pacientes en cada categoría IMC:', conteo_IMC)"
   ]
  },
  {
   "cell_type": "markdown",
   "id": "a0bcdf7e-8681-44e1-9639-5d9eb524c3c1",
   "metadata": {},
   "source": [
    "#### Visualización de Datos:\n",
    "\n",
    "- Genera un gráfico de barras que muestre la cantidad de pacientes en cada categoría de Estado_IMC.\n",
    "- Usa matplotlib para personalizar el gráfico con título, etiquetas y colores adecuados.\n"
   ]
  },
  {
   "cell_type": "code",
   "execution_count": 11,
   "id": "398998d5-ddac-4514-8519-9dbc0a2fb4f9",
   "metadata": {},
   "outputs": [
    {
     "data": {
      "image/png": "[encoded data removed]",
      "text/plain": [
       "<Figure size 640x480 with 1 Axes>"
      ]
     },
     "metadata": {},
     "output_type": "display_data"
    }
   ],
   "source": [
    "import matplotlib.pyplot as plt\n",
    "\n",
    "#Genera el grafico de barras con colores personalizados\n",
    "conteo_IMC.plot(kind = 'bar' , color = ['green','blue', 'red', 'yellow' ])\n",
    "\n",
    "#Personalizar etiquetas\n",
    "plt.title('Cantidad de Pacientes en cada Categoría de Estado_IMC') \n",
    "plt.xlabel('Categoría de Estado_IMC') \n",
    "plt.ylabel('Cantidad de Pacientes')\n",
    "plt.show()\n"
   ]
  }
 ],
 "metadata": {
  "kernelspec": {
   "display_name": "Python 3 (ipykernel)",
   "language": "python",
   "name": "python3"
  },
  "language_info": {
   "codemirror_mode": {
    "name": "ipython",
    "version": 3
   },
   "file_extension": ".py",
   "mimetype": "text/x-python",
   "name": "python",
   "nbconvert_exporter": "python",
   "pygments_lexer": "ipython3",
   "version": "3.12.9"
  }
 },
 "nbformat": 4,
 "nbformat_minor": 5
}
