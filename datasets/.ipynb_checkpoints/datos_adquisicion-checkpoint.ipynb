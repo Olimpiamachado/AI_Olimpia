{
 "cells": [
  {
   "cell_type": "markdown",
   "id": "7aef67ed-426c-4779-a526-6bcbf80f908a",
   "metadata": {},
   "source": [
    "### 1. Lee y resume la siguiente información sobre los tipos de datos:\n",
    " **Datos estructurados :** Son datos organizados en un formato claro y predecible, típicamente en bases de datos o archivos como CSV. Están organizados en filas y columnas, formando tablas donde cada celda tiene un tipo de dato específico.\n",
    " \n",
    "**Datos no estructurados:** Son aquellos que no tienen un formato rígido o predefinido, como textos, imágenes, videos, audios, entre otros. Estos datos no se ajustan fácilmente a una estructura tabular y requieren técnicas especializadas para su análisis."
   ]
  },
  {
   "cell_type": "markdown",
   "id": "97d5ef8a-d877-4e89-94ed-79209c6038f5",
   "metadata": {},
   "source": [
    "### 2. Responde las siguientes preguntas en tu informe: ###\n",
    "**- ¿Cuáles son las principales características de los datos estructurados y no estructurados?**\n",
    "- Datos estructurados:\n",
    "    - Organización en formato tabular (filas y columnas).\n",
    "    - Tipos de datos definidos (números, cadenas de texto, fechas, etc.).\n",
    "    - Facilidad de acceso y consulta mediante lenguajes como SQL.\n",
    "    - Alta eficiencia para análisis rápidos y simples.\n",
    "- Datos no estructurados:\n",
    "    - No siguen una estructura rígida o predecible.\n",
    "    - Varían ampliamente en formato y tipo (texto, imágenes, audio, video, etc.).\n",
    "    - Necesitan herramientas y técnicas avanzadas para su organización y análisis, como minería de datos o algoritmos de aprendizaje automático.\n",
    "\n",
    "**- ¿Cuáles son las ventajas y desventajas de trabajar con cada tipo de dato?**\n",
    "- Datos estructurados:\n",
    "    - Ventajas:\n",
    "        - Fácil de almacenar y consultar.\n",
    "        - Mayor eficiencia en el procesamiento y análisis.\n",
    "        - Existen herramientas estandarizadas (bases de datos relacionales).\n",
    "    - Desventajas:\n",
    "        - Limitado en la capacidad de representar información compleja.\n",
    "        - Difícil de manejar para datos con formato no predecible.\n",
    "- Datos no estructurados:\n",
    "    - Ventajas:\n",
    "        - Pueden contener más información rica y detallada.\n",
    "        - Son más flexibles y pueden representar información compleja, como sentimientos en texto o características visuales en imágenes.\n",
    "    - Desventajas:\n",
    "        - Más difíciles de organizar y analizar.\n",
    "        - Requiere herramientas avanzadas (como NLP para texto o reconocimiento de imágenes).\n",
    "\n",
    "**- Da ejemplos de datos no estructurados más allá de texto (por ejemplo, audio o imágenes).**\n",
    "- Imágenes: Fotografías, gráficos, diagramas, etc.\n",
    "- Audio: Grabaciones de voz, música, sonidos, entrevistas, etc.\n",
    "- Video: Películas, grabaciones en vivo, tutoriales, etc.\n",
    "- Datos de sensores: Datos generados por dispositivos IoT, como sensores de temperatura o movimiento.\n",
    "\n",
    "**- ¿Qué desafíos existen al trabajar con cada tipo de dato?**\n",
    "- Desafíos datos estructurados:\n",
    "    - Limitación en la capacidad de capturar información rica y compleja.\n",
    "    - Puede ser difícil adaptar estructuras fijas a situaciones dinámicas o cambiantes.\n",
    "- Desafíos datos no estructurados:\n",
    "    - Requieren algoritmos complejos para su procesamiento, como reconocimiento de patrones.\n",
    "    - Dificultad en la integración con sistemas tradicionales basados en datos estructurados.\n",
    "    - Requiere gran capacidad de almacenamiento y procesamiento para manejar grandes volúmenes de datos."
   ]
  },
  {
   "cell_type": "markdown",
   "id": "e8c0dac5-80c8-45ec-9502-16011a007306",
   "metadata": {},
   "source": [
    "### Actividad práctica: ###\n",
    "Carga el archivo CSV en un DataFrame de Pandas:"
   ]
  },
  {
   "cell_type": "code",
   "execution_count": 6,
   "id": "008b0eec-b10d-49e2-a96b-3e63a1f496d6",
   "metadata": {},
   "outputs": [
    {
     "name": "stdout",
     "output_type": "stream",
     "text": [
      "    Age  Gender  Weight (kg)  Height (m) Max_BPM  Avg_BPM  Resting_BPM  \\\n",
      "0  34.0  Female         86.7        1.86     174    152.0         74.0   \n",
      "1  26.0  Female         84.7        1.83     166    156.0         73.0   \n",
      "2  22.0    Male         64.8        1.85     187    166.0         64.0   \n",
      "3  54.0  Female         75.3        1.82     187    169.0         58.0   \n",
      "4  34.0  Female         52.8        1.74     177    169.0         66.0   \n",
      "\n",
      "   Session_Duration (hours)  Calories_Burned Workout_Type  Fat_Percentage  \\\n",
      "0                      1.12            712.0     Strength            12.8   \n",
      "1                      1.00            833.0     Strength            27.9   \n",
      "2                      1.24           1678.0       Cardio            28.7   \n",
      "3                      1.45            628.0       Cardio            31.8   \n",
      "4                      1.60           1286.0     Strength            26.4   \n",
      "\n",
      "   Water_Intake (liters)  Workout_Frequency (days/week)  Experience_Level  \\\n",
      "0                    2.4                            5.0               2.0   \n",
      "1                    2.8                            5.0               2.0   \n",
      "2                    1.9                            3.0               2.0   \n",
      "3                    2.4                            4.0               1.0   \n",
      "4                    3.2                            4.0               2.0   \n",
      "\n",
      "     BMI  \n",
      "0  14.31  \n",
      "1  33.49  \n",
      "2  12.73  \n",
      "3  20.37  \n",
      "4  20.83  \n",
      "<class 'pandas.core.frame.DataFrame'>\n",
      "RangeIndex: 1800 entries, 0 to 1799\n",
      "Data columns (total 15 columns):\n",
      " #   Column                         Non-Null Count  Dtype  \n",
      "---  ------                         --------------  -----  \n",
      " 0   Age                            1790 non-null   float64\n",
      " 1   Gender                         1729 non-null   object \n",
      " 2   Weight (kg)                    1778 non-null   float64\n",
      " 3   Height (m)                     1774 non-null   float64\n",
      " 4   Max_BPM                        1779 non-null   object \n",
      " 5   Avg_BPM                        1770 non-null   float64\n",
      " 6   Resting_BPM                    1781 non-null   float64\n",
      " 7   Session_Duration (hours)       1777 non-null   float64\n",
      " 8   Calories_Burned                1777 non-null   float64\n",
      " 9   Workout_Type                   1739 non-null   object \n",
      " 10  Fat_Percentage                 1784 non-null   float64\n",
      " 11  Water_Intake (liters)          1776 non-null   float64\n",
      " 12  Workout_Frequency (days/week)  1742 non-null   float64\n",
      " 13  Experience_Level               1743 non-null   float64\n",
      " 14  BMI                            1770 non-null   float64\n",
      "dtypes: float64(12), object(3)\n",
      "memory usage: 211.1+ KB\n",
      "None\n"
     ]
    }
   ],
   "source": [
    "import pandas as pd\n",
    "# Carga de archivo CSV\n",
    "df = pd.read_csv(\"Fitness_Tracker_Dataset.csv\")\n",
    "# Ver las primeras filas\n",
    "print(df.head())\n",
    "# Información general del DataFrame\n",
    "print(df.info())"
   ]
  },
  {
   "cell_type": "markdown",
   "id": "a25857db-eec7-4ebf-a104-e0ec71a21691",
   "metadata": {},
   "source": [
    "**Trabajando con Datos No Estructurados (Texto):**\n",
    "- Paso 1: Descarga un archivo de texto (puede ser un archivo de tweets o comentarios en un foro).\n",
    "- Paso 2: Carga el archivo de texto en Python y realiza un análisis simple."
   ]
  },
  {
   "cell_type": "code",
   "execution_count": 9,
   "id": "6aad69c6-3964-4996-b361-0c22ba532b1f",
   "metadata": {},
   "outputs": [
    {
     "name": "stdout",
     "output_type": "stream",
     "text": [
      "Lorem ipsum dolor sit amet, consectetur adipiscing elit. Proin pretium placerat ex sed accumsan. Pellentesque malesuada, velit eget viverra dictum, libero neque pulvinar urna, at luctus turpis tortor sed lacus. In ut leo congue, vestibulum mi a, luctus velit. Ut lorem ante, blandit sed elit id, cursus iaculis sem. Vestibulum id odio massa. Integer in turpis sit amet ipsum finibus fringilla nec quis ex. Vivamus pellentesque est sit amet dolor viverra euismod. Integer tincidunt ligula tristique, f\n"
     ]
    }
   ],
   "source": [
    "with open('lorem_ipsum.txt', 'r') as file:\n",
    "    text_data = file.read()\n",
    "    # Muestra las primeras líneas\n",
    "print(text_data[:500])"
   ]
  },
  {
   "cell_type": "markdown",
   "id": "5f4e85b9-5661-4d00-888c-b12ec29fd649",
   "metadata": {},
   "source": [
    "- Paso 3: Usa herramientas de procesamiento de texto básicas como split() para dividir el texto en palabras:"
   ]
  },
  {
   "cell_type": "code",
   "execution_count": 10,
   "id": "8f1aecee-05ae-4a61-a4ae-a1b85c47a535",
   "metadata": {},
   "outputs": [
    {
     "name": "stdout",
     "output_type": "stream",
     "text": [
      "['Lorem', 'ipsum', 'dolor', 'sit', 'amet,', 'consectetur', 'adipiscing', 'elit.', 'Proin', 'pretium', 'placerat', 'ex', 'sed', 'accumsan.', 'Pellentesque', 'malesuada,', 'velit', 'eget', 'viverra', 'dictum,']\n"
     ]
    }
   ],
   "source": [
    "words = text_data.split()\n",
    "print(words[:20]) # Muestra las primeras 20 palabras"
   ]
  },
  {
   "cell_type": "code",
   "execution_count": null,
   "id": "e9ea0a02-ee75-4b9e-8c79-8234cbc71db9",
   "metadata": {},
   "outputs": [],
   "source": []
  }
 ],
 "metadata": {
  "kernelspec": {
   "display_name": "Python 3 (ipykernel)",
   "language": "python",
   "name": "python3"
  },
  "language_info": {
   "codemirror_mode": {
    "name": "ipython",
    "version": 3
   },
   "file_extension": ".py",
   "mimetype": "text/x-python",
   "name": "python",
   "nbconvert_exporter": "python",
   "pygments_lexer": "ipython3",
   "version": "3.12.9"
  }
 },
 "nbformat": 4,
 "nbformat_minor": 5
}
