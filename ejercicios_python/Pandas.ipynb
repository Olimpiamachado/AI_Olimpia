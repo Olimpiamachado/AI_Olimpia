{
 "cells": [
  {
   "cell_type": "code",
   "execution_count": 3,
   "id": "262767a9-6bb9-4f59-bb39-bc02a9ba56c6",
   "metadata": {},
   "outputs": [],
   "source": [
    "import pandas as pd"
   ]
  },
  {
   "cell_type": "code",
   "execution_count": 5,
   "id": "d4cfa1ab-b85c-4a79-8a48-6cf894722c9f",
   "metadata": {},
   "outputs": [
    {
     "name": "stdout",
     "output_type": "stream",
     "text": [
      "0    1\n",
      "1    2\n",
      "2    3\n",
      "3    4\n",
      "dtype: int64\n"
     ]
    }
   ],
   "source": [
    "s = pd.Series([1, 2, 3, 4])\n",
    "print(s)"
   ]
  },
  {
   "cell_type": "code",
   "execution_count": 6,
   "id": "47c4beb7-d65b-4066-a8f3-8f5a9aa1b86b",
   "metadata": {},
   "outputs": [
    {
     "name": "stdout",
     "output_type": "stream",
     "text": [
      "  Nombre  Edad\n",
      "0   Luis    23\n",
      "1    Ana    30\n",
      "2  Jorge    48\n",
      "3  María    65\n"
     ]
    }
   ],
   "source": [
    "data = {'Nombre' : ['Luis', 'Ana', 'Jorge', 'María'], 'Edad' : [23, 30, 48, 65]} # Diccionario\n",
    "\n",
    "df = pd.DataFrame(data)\n",
    "print(df)"
   ]
  },
  {
   "cell_type": "code",
   "execution_count": null,
   "id": "be0a0cf1-53b0-4052-9ba7-d03d6bf00c7c",
   "metadata": {},
   "outputs": [],
   "source": []
  }
 ],
 "metadata": {
  "kernelspec": {
   "display_name": "Python 3 (ipykernel)",
   "language": "python",
   "name": "python3"
  },
  "language_info": {
   "codemirror_mode": {
    "name": "ipython",
    "version": 3
   },
   "file_extension": ".py",
   "mimetype": "text/x-python",
   "name": "python",
   "nbconvert_exporter": "python",
   "pygments_lexer": "ipython3",
   "version": "3.12.9"
  }
 },
 "nbformat": 4,
 "nbformat_minor": 5
}
