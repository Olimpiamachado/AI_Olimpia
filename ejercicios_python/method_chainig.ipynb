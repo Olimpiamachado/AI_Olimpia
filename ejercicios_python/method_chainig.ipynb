{
  "nbformat": 4,
  "nbformat_minor": 0,
  "metadata": {
    "colab": {
      "provenance": [],
      "authorship_tag": "ABX9TyNdUI0AInoLajUFc2KUz8w/",
      "include_colab_link": true
    },
    "kernelspec": {
      "name": "python3",
      "display_name": "Python 3"
    },
    "language_info": {
      "name": "python"
    }
  },
  "cells": [
    {
      "cell_type": "markdown",
      "metadata": {
        "id": "view-in-github",
        "colab_type": "text"
      },
      "source": [
        "<a href=\"https://colab.research.google.com/github/Olimpiamachado/AI_Olimpia/blob/main/method_chainig.ipynb\" target=\"_parent\"><img src=\"https://colab.research.google.com/assets/colab-badge.svg\" alt=\"Open In Colab\"/></a>"
      ]
    },
    {
      "cell_type": "code",
      "execution_count": 89,
      "metadata": {
        "id": "pLbTbsbUh9zu"
      },
      "outputs": [],
      "source": [
        "import pandas as pd\n",
        "import seaborn as sns\n",
        "import matplotlib.pyplot as plt\n",
        "from scipy.stats import norm, shapiro"
      ]
    },
    {
      "cell_type": "code",
      "source": [
        "#Carga conjunto de datos\n",
        "penguins = sns.load_dataset(\"penguins\")\n",
        "species = 'Adelie'\n",
        "penguins.head()"
      ],
      "metadata": {
        "colab": {
          "base_uri": "https://localhost:8080/",
          "height": 206
        },
        "id": "xIDAAzjLiSKc",
        "outputId": "79c69fd0-5589-43ee-a25a-45a7490799d7"
      },
      "execution_count": 90,
      "outputs": [
        {
          "output_type": "execute_result",
          "data": {
            "text/plain": [
              "  species     island  bill_length_mm  bill_depth_mm  flipper_length_mm  \\\n",
              "0  Adelie  Torgersen            39.1           18.7              181.0   \n",
              "1  Adelie  Torgersen            39.5           17.4              186.0   \n",
              "2  Adelie  Torgersen            40.3           18.0              195.0   \n",
              "3  Adelie  Torgersen             NaN            NaN                NaN   \n",
              "4  Adelie  Torgersen            36.7           19.3              193.0   \n",
              "\n",
              "   body_mass_g     sex  \n",
              "0       3750.0    Male  \n",
              "1       3800.0  Female  \n",
              "2       3250.0  Female  \n",
              "3          NaN     NaN  \n",
              "4       3450.0  Female  "
            ],
            "text/html": [
              "\n",
              "  <div id=\"df-8342426e-d2fb-4c7b-afea-f84f575077fa\" class=\"colab-df-container\">\n",
              "    <div>\n",
              "<style scoped>\n",
              "    .dataframe tbody tr th:only-of-type {\n",
              "        vertical-align: middle;\n",
              "    }\n",
              "\n",
              "    .dataframe tbody tr th {\n",
              "        vertical-align: top;\n",
              "    }\n",
              "\n",
              "    .dataframe thead th {\n",
              "        text-align: right;\n",
              "    }\n",
              "</style>\n",
              "<table border=\"1\" class=\"dataframe\">\n",
              "  <thead>\n",
              "    <tr style=\"text-align: right;\">\n",
              "      <th></th>\n",
              "      <th>species</th>\n",
              "      <th>island</th>\n",
              "      <th>bill_length_mm</th>\n",
              "      <th>bill_depth_mm</th>\n",
              "      <th>flipper_length_mm</th>\n",
              "      <th>body_mass_g</th>\n",
              "      <th>sex</th>\n",
              "    </tr>\n",
              "  </thead>\n",
              "  <tbody>\n",
              "    <tr>\n",
              "      <th>0</th>\n",
              "      <td>Adelie</td>\n",
              "      <td>Torgersen</td>\n",
              "      <td>39.1</td>\n",
              "      <td>18.7</td>\n",
              "      <td>181.0</td>\n",
              "      <td>3750.0</td>\n",
              "      <td>Male</td>\n",
              "    </tr>\n",
              "    <tr>\n",
              "      <th>1</th>\n",
              "      <td>Adelie</td>\n",
              "      <td>Torgersen</td>\n",
              "      <td>39.5</td>\n",
              "      <td>17.4</td>\n",
              "      <td>186.0</td>\n",
              "      <td>3800.0</td>\n",
              "      <td>Female</td>\n",
              "    </tr>\n",
              "    <tr>\n",
              "      <th>2</th>\n",
              "      <td>Adelie</td>\n",
              "      <td>Torgersen</td>\n",
              "      <td>40.3</td>\n",
              "      <td>18.0</td>\n",
              "      <td>195.0</td>\n",
              "      <td>3250.0</td>\n",
              "      <td>Female</td>\n",
              "    </tr>\n",
              "    <tr>\n",
              "      <th>3</th>\n",
              "      <td>Adelie</td>\n",
              "      <td>Torgersen</td>\n",
              "      <td>NaN</td>\n",
              "      <td>NaN</td>\n",
              "      <td>NaN</td>\n",
              "      <td>NaN</td>\n",
              "      <td>NaN</td>\n",
              "    </tr>\n",
              "    <tr>\n",
              "      <th>4</th>\n",
              "      <td>Adelie</td>\n",
              "      <td>Torgersen</td>\n",
              "      <td>36.7</td>\n",
              "      <td>19.3</td>\n",
              "      <td>193.0</td>\n",
              "      <td>3450.0</td>\n",
              "      <td>Female</td>\n",
              "    </tr>\n",
              "  </tbody>\n",
              "</table>\n",
              "</div>\n",
              "    <div class=\"colab-df-buttons\">\n",
              "\n",
              "  <div class=\"colab-df-container\">\n",
              "    <button class=\"colab-df-convert\" onclick=\"convertToInteractive('df-8342426e-d2fb-4c7b-afea-f84f575077fa')\"\n",
              "            title=\"Convert this dataframe to an interactive table.\"\n",
              "            style=\"display:none;\">\n",
              "\n",
              "  <svg xmlns=\"http://www.w3.org/2000/svg\" height=\"24px\" viewBox=\"0 -960 960 960\">\n",
              "    <path d=\"M120-120v-720h720v720H120Zm60-500h600v-160H180v160Zm220 220h160v-160H400v160Zm0 220h160v-160H400v160ZM180-400h160v-160H180v160Zm440 0h160v-160H620v160ZM180-180h160v-160H180v160Zm440 0h160v-160H620v160Z\"/>\n",
              "  </svg>\n",
              "    </button>\n",
              "\n",
              "  <style>\n",
              "    .colab-df-container {\n",
              "      display:flex;\n",
              "      gap: 12px;\n",
              "    }\n",
              "\n",
              "    .colab-df-convert {\n",
              "      background-color: #E8F0FE;\n",
              "      border: none;\n",
              "      border-radius: 50%;\n",
              "      cursor: pointer;\n",
              "      display: none;\n",
              "      fill: #1967D2;\n",
              "      height: 32px;\n",
              "      padding: 0 0 0 0;\n",
              "      width: 32px;\n",
              "    }\n",
              "\n",
              "    .colab-df-convert:hover {\n",
              "      background-color: #E2EBFA;\n",
              "      box-shadow: 0px 1px 2px rgba(60, 64, 67, 0.3), 0px 1px 3px 1px rgba(60, 64, 67, 0.15);\n",
              "      fill: #174EA6;\n",
              "    }\n",
              "\n",
              "    .colab-df-buttons div {\n",
              "      margin-bottom: 4px;\n",
              "    }\n",
              "\n",
              "    [theme=dark] .colab-df-convert {\n",
              "      background-color: #3B4455;\n",
              "      fill: #D2E3FC;\n",
              "    }\n",
              "\n",
              "    [theme=dark] .colab-df-convert:hover {\n",
              "      background-color: #434B5C;\n",
              "      box-shadow: 0px 1px 3px 1px rgba(0, 0, 0, 0.15);\n",
              "      filter: drop-shadow(0px 1px 2px rgba(0, 0, 0, 0.3));\n",
              "      fill: #FFFFFF;\n",
              "    }\n",
              "  </style>\n",
              "\n",
              "    <script>\n",
              "      const buttonEl =\n",
              "        document.querySelector('#df-8342426e-d2fb-4c7b-afea-f84f575077fa button.colab-df-convert');\n",
              "      buttonEl.style.display =\n",
              "        google.colab.kernel.accessAllowed ? 'block' : 'none';\n",
              "\n",
              "      async function convertToInteractive(key) {\n",
              "        const element = document.querySelector('#df-8342426e-d2fb-4c7b-afea-f84f575077fa');\n",
              "        const dataTable =\n",
              "          await google.colab.kernel.invokeFunction('convertToInteractive',\n",
              "                                                    [key], {});\n",
              "        if (!dataTable) return;\n",
              "\n",
              "        const docLinkHtml = 'Like what you see? Visit the ' +\n",
              "          '<a target=\"_blank\" href=https://colab.research.google.com/notebooks/data_table.ipynb>data table notebook</a>'\n",
              "          + ' to learn more about interactive tables.';\n",
              "        element.innerHTML = '';\n",
              "        dataTable['output_type'] = 'display_data';\n",
              "        await google.colab.output.renderOutput(dataTable, element);\n",
              "        const docLink = document.createElement('div');\n",
              "        docLink.innerHTML = docLinkHtml;\n",
              "        element.appendChild(docLink);\n",
              "      }\n",
              "    </script>\n",
              "  </div>\n",
              "\n",
              "\n",
              "<div id=\"df-fe92b344-9d9c-4135-9067-029776a5b7d3\">\n",
              "  <button class=\"colab-df-quickchart\" onclick=\"quickchart('df-fe92b344-9d9c-4135-9067-029776a5b7d3')\"\n",
              "            title=\"Suggest charts\"\n",
              "            style=\"display:none;\">\n",
              "\n",
              "<svg xmlns=\"http://www.w3.org/2000/svg\" height=\"24px\"viewBox=\"0 0 24 24\"\n",
              "     width=\"24px\">\n",
              "    <g>\n",
              "        <path d=\"M19 3H5c-1.1 0-2 .9-2 2v14c0 1.1.9 2 2 2h14c1.1 0 2-.9 2-2V5c0-1.1-.9-2-2-2zM9 17H7v-7h2v7zm4 0h-2V7h2v10zm4 0h-2v-4h2v4z\"/>\n",
              "    </g>\n",
              "</svg>\n",
              "  </button>\n",
              "\n",
              "<style>\n",
              "  .colab-df-quickchart {\n",
              "      --bg-color: #E8F0FE;\n",
              "      --fill-color: #1967D2;\n",
              "      --hover-bg-color: #E2EBFA;\n",
              "      --hover-fill-color: #174EA6;\n",
              "      --disabled-fill-color: #AAA;\n",
              "      --disabled-bg-color: #DDD;\n",
              "  }\n",
              "\n",
              "  [theme=dark] .colab-df-quickchart {\n",
              "      --bg-color: #3B4455;\n",
              "      --fill-color: #D2E3FC;\n",
              "      --hover-bg-color: #434B5C;\n",
              "      --hover-fill-color: #FFFFFF;\n",
              "      --disabled-bg-color: #3B4455;\n",
              "      --disabled-fill-color: #666;\n",
              "  }\n",
              "\n",
              "  .colab-df-quickchart {\n",
              "    background-color: var(--bg-color);\n",
              "    border: none;\n",
              "    border-radius: 50%;\n",
              "    cursor: pointer;\n",
              "    display: none;\n",
              "    fill: var(--fill-color);\n",
              "    height: 32px;\n",
              "    padding: 0;\n",
              "    width: 32px;\n",
              "  }\n",
              "\n",
              "  .colab-df-quickchart:hover {\n",
              "    background-color: var(--hover-bg-color);\n",
              "    box-shadow: 0 1px 2px rgba(60, 64, 67, 0.3), 0 1px 3px 1px rgba(60, 64, 67, 0.15);\n",
              "    fill: var(--button-hover-fill-color);\n",
              "  }\n",
              "\n",
              "  .colab-df-quickchart-complete:disabled,\n",
              "  .colab-df-quickchart-complete:disabled:hover {\n",
              "    background-color: var(--disabled-bg-color);\n",
              "    fill: var(--disabled-fill-color);\n",
              "    box-shadow: none;\n",
              "  }\n",
              "\n",
              "  .colab-df-spinner {\n",
              "    border: 2px solid var(--fill-color);\n",
              "    border-color: transparent;\n",
              "    border-bottom-color: var(--fill-color);\n",
              "    animation:\n",
              "      spin 1s steps(1) infinite;\n",
              "  }\n",
              "\n",
              "  @keyframes spin {\n",
              "    0% {\n",
              "      border-color: transparent;\n",
              "      border-bottom-color: var(--fill-color);\n",
              "      border-left-color: var(--fill-color);\n",
              "    }\n",
              "    20% {\n",
              "      border-color: transparent;\n",
              "      border-left-color: var(--fill-color);\n",
              "      border-top-color: var(--fill-color);\n",
              "    }\n",
              "    30% {\n",
              "      border-color: transparent;\n",
              "      border-left-color: var(--fill-color);\n",
              "      border-top-color: var(--fill-color);\n",
              "      border-right-color: var(--fill-color);\n",
              "    }\n",
              "    40% {\n",
              "      border-color: transparent;\n",
              "      border-right-color: var(--fill-color);\n",
              "      border-top-color: var(--fill-color);\n",
              "    }\n",
              "    60% {\n",
              "      border-color: transparent;\n",
              "      border-right-color: var(--fill-color);\n",
              "    }\n",
              "    80% {\n",
              "      border-color: transparent;\n",
              "      border-right-color: var(--fill-color);\n",
              "      border-bottom-color: var(--fill-color);\n",
              "    }\n",
              "    90% {\n",
              "      border-color: transparent;\n",
              "      border-bottom-color: var(--fill-color);\n",
              "    }\n",
              "  }\n",
              "</style>\n",
              "\n",
              "  <script>\n",
              "    async function quickchart(key) {\n",
              "      const quickchartButtonEl =\n",
              "        document.querySelector('#' + key + ' button');\n",
              "      quickchartButtonEl.disabled = true;  // To prevent multiple clicks.\n",
              "      quickchartButtonEl.classList.add('colab-df-spinner');\n",
              "      try {\n",
              "        const charts = await google.colab.kernel.invokeFunction(\n",
              "            'suggestCharts', [key], {});\n",
              "      } catch (error) {\n",
              "        console.error('Error during call to suggestCharts:', error);\n",
              "      }\n",
              "      quickchartButtonEl.classList.remove('colab-df-spinner');\n",
              "      quickchartButtonEl.classList.add('colab-df-quickchart-complete');\n",
              "    }\n",
              "    (() => {\n",
              "      let quickchartButtonEl =\n",
              "        document.querySelector('#df-fe92b344-9d9c-4135-9067-029776a5b7d3 button');\n",
              "      quickchartButtonEl.style.display =\n",
              "        google.colab.kernel.accessAllowed ? 'block' : 'none';\n",
              "    })();\n",
              "  </script>\n",
              "</div>\n",
              "\n",
              "    </div>\n",
              "  </div>\n"
            ],
            "application/vnd.google.colaboratory.intrinsic+json": {
              "type": "dataframe",
              "variable_name": "penguins",
              "summary": "{\n  \"name\": \"penguins\",\n  \"rows\": 344,\n  \"fields\": [\n    {\n      \"column\": \"species\",\n      \"properties\": {\n        \"dtype\": \"category\",\n        \"num_unique_values\": 3,\n        \"samples\": [\n          \"Adelie\",\n          \"Chinstrap\",\n          \"Gentoo\"\n        ],\n        \"semantic_type\": \"\",\n        \"description\": \"\"\n      }\n    },\n    {\n      \"column\": \"island\",\n      \"properties\": {\n        \"dtype\": \"category\",\n        \"num_unique_values\": 3,\n        \"samples\": [\n          \"Torgersen\",\n          \"Biscoe\",\n          \"Dream\"\n        ],\n        \"semantic_type\": \"\",\n        \"description\": \"\"\n      }\n    },\n    {\n      \"column\": \"bill_length_mm\",\n      \"properties\": {\n        \"dtype\": \"number\",\n        \"std\": 5.459583713926532,\n        \"min\": 32.1,\n        \"max\": 59.6,\n        \"num_unique_values\": 164,\n        \"samples\": [\n          48.2,\n          49.8,\n          45.1\n        ],\n        \"semantic_type\": \"\",\n        \"description\": \"\"\n      }\n    },\n    {\n      \"column\": \"bill_depth_mm\",\n      \"properties\": {\n        \"dtype\": \"number\",\n        \"std\": 1.9747931568167816,\n        \"min\": 13.1,\n        \"max\": 21.5,\n        \"num_unique_values\": 80,\n        \"samples\": [\n          16.9,\n          18.7,\n          18.6\n        ],\n        \"semantic_type\": \"\",\n        \"description\": \"\"\n      }\n    },\n    {\n      \"column\": \"flipper_length_mm\",\n      \"properties\": {\n        \"dtype\": \"number\",\n        \"std\": 14.061713679356894,\n        \"min\": 172.0,\n        \"max\": 231.0,\n        \"num_unique_values\": 55,\n        \"samples\": [\n          201.0,\n          180.0,\n          212.0\n        ],\n        \"semantic_type\": \"\",\n        \"description\": \"\"\n      }\n    },\n    {\n      \"column\": \"body_mass_g\",\n      \"properties\": {\n        \"dtype\": \"number\",\n        \"std\": 801.9545356980954,\n        \"min\": 2700.0,\n        \"max\": 6300.0,\n        \"num_unique_values\": 94,\n        \"samples\": [\n          4350.0,\n          4150.0,\n          3525.0\n        ],\n        \"semantic_type\": \"\",\n        \"description\": \"\"\n      }\n    },\n    {\n      \"column\": \"sex\",\n      \"properties\": {\n        \"dtype\": \"category\",\n        \"num_unique_values\": 2,\n        \"samples\": [\n          \"Female\",\n          \"Male\"\n        ],\n        \"semantic_type\": \"\",\n        \"description\": \"\"\n      }\n    }\n  ]\n}"
            }
          },
          "metadata": {},
          "execution_count": 90
        }
      ]
    },
    {
      "cell_type": "code",
      "source": [
        "data = penguins[penguins['species'] == 'Adelie']['body_mass_g'].dropna()\n",
        "print(data)"
      ],
      "metadata": {
        "colab": {
          "base_uri": "https://localhost:8080/"
        },
        "id": "rC4sT1fOinA2",
        "outputId": "7e3787c1-849f-4d45-d19e-b8e097326aee"
      },
      "execution_count": 91,
      "outputs": [
        {
          "output_type": "stream",
          "name": "stdout",
          "text": [
            "0      3750.0\n",
            "1      3800.0\n",
            "2      3250.0\n",
            "4      3450.0\n",
            "5      3650.0\n",
            "        ...  \n",
            "147    3475.0\n",
            "148    3450.0\n",
            "149    3750.0\n",
            "150    3700.0\n",
            "151    4000.0\n",
            "Name: body_mass_g, Length: 151, dtype: float64\n"
          ]
        }
      ]
    },
    {
      "cell_type": "markdown",
      "source": [
        "penguins[penguins['species'] == 'Adelie' busca ver si en la columna especies, al igualar a 'adelie' nos da true o false (condición). Comprueba q la columna especie tenga el contendido adelie.\n",
        "\n",
        "penguins[penguins['species'] == 'Adelie'] solo selecciona las filas donde se da la condición True.\n",
        "\n",
        "['body_mass_g'] despues de ver donde es true la fila, selecciona solo la columna body mass\n",
        "\n",
        ".dropna() = elimina los valores nulos."
      ],
      "metadata": {
        "id": "K_bvYKnmjY9R"
      }
    },
    {
      "cell_type": "code",
      "source": [
        "#Seleccionar la longitud dl pic de la especie 'Gento eliminando los nulos'\n",
        "gento_bill = penguins[penguins['species'] == 'Gentoo']['bill_length_mm'].dropna()\n",
        "print(gento_bill)\n",
        "print(type(gento_bill))"
      ],
      "metadata": {
        "colab": {
          "base_uri": "https://localhost:8080/"
        },
        "id": "YWsKiXQJjLLA",
        "outputId": "9a6d2bbb-b392-412d-9e13-d1dad0d5d5ff"
      },
      "execution_count": 92,
      "outputs": [
        {
          "output_type": "stream",
          "name": "stdout",
          "text": [
            "220    46.1\n",
            "221    50.0\n",
            "222    48.7\n",
            "223    50.0\n",
            "224    47.6\n",
            "       ... \n",
            "338    47.2\n",
            "340    46.8\n",
            "341    50.4\n",
            "342    45.2\n",
            "343    49.9\n",
            "Name: bill_length_mm, Length: 123, dtype: float64\n",
            "<class 'pandas.core.series.Series'>\n"
          ]
        }
      ]
    },
    {
      "cell_type": "code",
      "source": [
        "#obtener solo las filas de la especie 'Chinstrap'\n",
        "chinstrap_data = penguins[penguins['species'] == 'Chinstrap'].dropna()\n",
        "print(chinstrap_data)"
      ],
      "metadata": {
        "colab": {
          "base_uri": "https://localhost:8080/"
        },
        "id": "etV2FL9Vmga-",
        "outputId": "9dd14956-66c5-4a3b-8c23-aed449d00d6c"
      },
      "execution_count": 93,
      "outputs": [
        {
          "output_type": "stream",
          "name": "stdout",
          "text": [
            "       species island  bill_length_mm  bill_depth_mm  flipper_length_mm  \\\n",
            "152  Chinstrap  Dream            46.5           17.9              192.0   \n",
            "153  Chinstrap  Dream            50.0           19.5              196.0   \n",
            "154  Chinstrap  Dream            51.3           19.2              193.0   \n",
            "155  Chinstrap  Dream            45.4           18.7              188.0   \n",
            "156  Chinstrap  Dream            52.7           19.8              197.0   \n",
            "..         ...    ...             ...            ...                ...   \n",
            "215  Chinstrap  Dream            55.8           19.8              207.0   \n",
            "216  Chinstrap  Dream            43.5           18.1              202.0   \n",
            "217  Chinstrap  Dream            49.6           18.2              193.0   \n",
            "218  Chinstrap  Dream            50.8           19.0              210.0   \n",
            "219  Chinstrap  Dream            50.2           18.7              198.0   \n",
            "\n",
            "     body_mass_g     sex  \n",
            "152       3500.0  Female  \n",
            "153       3900.0    Male  \n",
            "154       3650.0    Male  \n",
            "155       3525.0  Female  \n",
            "156       3725.0    Male  \n",
            "..           ...     ...  \n",
            "215       4000.0    Male  \n",
            "216       3400.0  Female  \n",
            "217       3775.0    Male  \n",
            "218       4100.0    Male  \n",
            "219       3775.0  Female  \n",
            "\n",
            "[68 rows x 7 columns]\n"
          ]
        }
      ]
    },
    {
      "cell_type": "code",
      "source": [
        "#Seleccionar la masa de los pinguinos q pesen mas de 4000 g\n",
        "heavy_penguins = penguins[penguins['body_mass_g'] > 4000]\n",
        "print(heavy_penguins)"
      ],
      "metadata": {
        "colab": {
          "base_uri": "https://localhost:8080/"
        },
        "id": "bm6XLVwVnMFt",
        "outputId": "ae5ee535-c9a9-4e04-c62a-23b7dc980747"
      },
      "execution_count": 94,
      "outputs": [
        {
          "output_type": "stream",
          "name": "stdout",
          "text": [
            "    species     island  bill_length_mm  bill_depth_mm  flipper_length_mm  \\\n",
            "7    Adelie  Torgersen            39.2           19.6              195.0   \n",
            "9    Adelie  Torgersen            42.0           20.2              190.0   \n",
            "14   Adelie  Torgersen            34.6           21.1              198.0   \n",
            "17   Adelie  Torgersen            42.5           20.7              197.0   \n",
            "19   Adelie  Torgersen            46.0           21.5              194.0   \n",
            "..      ...        ...             ...            ...                ...   \n",
            "338  Gentoo     Biscoe            47.2           13.7              214.0   \n",
            "340  Gentoo     Biscoe            46.8           14.3              215.0   \n",
            "341  Gentoo     Biscoe            50.4           15.7              222.0   \n",
            "342  Gentoo     Biscoe            45.2           14.8              212.0   \n",
            "343  Gentoo     Biscoe            49.9           16.1              213.0   \n",
            "\n",
            "     body_mass_g     sex  \n",
            "7         4675.0    Male  \n",
            "9         4250.0     NaN  \n",
            "14        4400.0    Male  \n",
            "17        4500.0    Male  \n",
            "19        4200.0    Male  \n",
            "..           ...     ...  \n",
            "338       4925.0  Female  \n",
            "340       4850.0  Female  \n",
            "341       5750.0    Male  \n",
            "342       5200.0  Female  \n",
            "343       5400.0    Male  \n",
            "\n",
            "[172 rows x 7 columns]\n"
          ]
        }
      ]
    },
    {
      "cell_type": "code",
      "source": [
        "#Seleccionar la masa de los pinguinos q pesen mas de 4000 g y que sean hembras\n",
        "#heavy_female_penguins = penguins[(penguins['body_mass_g'] > 4000) & (penguins['sex'] == 'Female')]\n",
        "heavy_female_penguins = penguins.query(\"body_mass_g > 4000 and sex == 'Female'\")\n",
        "print(heavy_female_penguins)"
      ],
      "metadata": {
        "colab": {
          "base_uri": "https://localhost:8080/"
        },
        "id": "_FpH4xuhofD6",
        "outputId": "119278f3-cf63-4ba2-d0be-c79895d8b645"
      },
      "execution_count": 95,
      "outputs": [
        {
          "output_type": "stream",
          "name": "stdout",
          "text": [
            "       species  island  bill_length_mm  bill_depth_mm  flipper_length_mm  \\\n",
            "160  Chinstrap   Dream            46.0           18.9              195.0   \n",
            "220     Gentoo  Biscoe            46.1           13.2              211.0   \n",
            "222     Gentoo  Biscoe            48.7           14.1              210.0   \n",
            "225     Gentoo  Biscoe            46.5           13.5              210.0   \n",
            "226     Gentoo  Biscoe            45.4           14.6              211.0   \n",
            "228     Gentoo  Biscoe            43.3           13.4              209.0   \n",
            "230     Gentoo  Biscoe            40.9           13.7              214.0   \n",
            "232     Gentoo  Biscoe            45.5           13.7              214.0   \n",
            "234     Gentoo  Biscoe            45.8           14.6              210.0   \n",
            "236     Gentoo  Biscoe            42.0           13.5              210.0   \n",
            "238     Gentoo  Biscoe            46.2           14.5              209.0   \n",
            "241     Gentoo  Biscoe            45.1           14.5              215.0   \n",
            "242     Gentoo  Biscoe            46.5           14.5              213.0   \n",
            "244     Gentoo  Biscoe            42.9           13.1              215.0   \n",
            "248     Gentoo  Biscoe            48.2           14.3              210.0   \n",
            "251     Gentoo  Biscoe            42.8           14.2              209.0   \n",
            "252     Gentoo  Biscoe            45.1           14.5              207.0   \n",
            "254     Gentoo  Biscoe            49.1           14.8              220.0   \n",
            "256     Gentoo  Biscoe            42.6           13.7              213.0   \n",
            "258     Gentoo  Biscoe            44.0           13.6              208.0   \n",
            "262     Gentoo  Biscoe            45.3           13.7              210.0   \n",
            "265     Gentoo  Biscoe            43.6           13.9              217.0   \n",
            "266     Gentoo  Biscoe            45.5           13.9              210.0   \n",
            "268     Gentoo  Biscoe            44.9           13.3              213.0   \n",
            "270     Gentoo  Biscoe            46.6           14.2              210.0   \n",
            "272     Gentoo  Biscoe            45.1           14.4              210.0   \n",
            "274     Gentoo  Biscoe            46.5           14.4              217.0   \n",
            "276     Gentoo  Biscoe            43.8           13.9              208.0   \n",
            "278     Gentoo  Biscoe            43.2           14.5              208.0   \n",
            "280     Gentoo  Biscoe            45.3           13.8              208.0   \n",
            "282     Gentoo  Biscoe            45.7           13.9              214.0   \n",
            "284     Gentoo  Biscoe            45.8           14.2              219.0   \n",
            "288     Gentoo  Biscoe            43.5           14.2              220.0   \n",
            "290     Gentoo  Biscoe            47.7           15.0              216.0   \n",
            "293     Gentoo  Biscoe            46.5           14.8              217.0   \n",
            "294     Gentoo  Biscoe            46.4           15.0              216.0   \n",
            "296     Gentoo  Biscoe            47.5           14.2              209.0   \n",
            "298     Gentoo  Biscoe            45.2           13.8              215.0   \n",
            "300     Gentoo  Biscoe            49.1           14.5              212.0   \n",
            "302     Gentoo  Biscoe            47.4           14.6              212.0   \n",
            "304     Gentoo  Biscoe            44.9           13.8              212.0   \n",
            "306     Gentoo  Biscoe            43.4           14.4              218.0   \n",
            "308     Gentoo  Biscoe            47.5           14.0              212.0   \n",
            "310     Gentoo  Biscoe            47.5           15.0              218.0   \n",
            "312     Gentoo  Biscoe            45.5           14.5              212.0   \n",
            "314     Gentoo  Biscoe            44.5           14.7              214.0   \n",
            "317     Gentoo  Biscoe            46.9           14.6              222.0   \n",
            "318     Gentoo  Biscoe            48.4           14.4              203.0   \n",
            "320     Gentoo  Biscoe            48.5           15.0              219.0   \n",
            "322     Gentoo  Biscoe            47.2           15.5              215.0   \n",
            "326     Gentoo  Biscoe            41.7           14.7              210.0   \n",
            "328     Gentoo  Biscoe            43.3           14.0              208.0   \n",
            "330     Gentoo  Biscoe            50.5           15.2              216.0   \n",
            "332     Gentoo  Biscoe            43.5           15.2              213.0   \n",
            "334     Gentoo  Biscoe            46.2           14.1              217.0   \n",
            "338     Gentoo  Biscoe            47.2           13.7              214.0   \n",
            "340     Gentoo  Biscoe            46.8           14.3              215.0   \n",
            "342     Gentoo  Biscoe            45.2           14.8              212.0   \n",
            "\n",
            "     body_mass_g     sex  \n",
            "160       4150.0  Female  \n",
            "220       4500.0  Female  \n",
            "222       4450.0  Female  \n",
            "225       4550.0  Female  \n",
            "226       4800.0  Female  \n",
            "228       4400.0  Female  \n",
            "230       4650.0  Female  \n",
            "232       4650.0  Female  \n",
            "234       4200.0  Female  \n",
            "236       4150.0  Female  \n",
            "238       4800.0  Female  \n",
            "241       5000.0  Female  \n",
            "242       4400.0  Female  \n",
            "244       5000.0  Female  \n",
            "248       4600.0  Female  \n",
            "251       4700.0  Female  \n",
            "252       5050.0  Female  \n",
            "254       5150.0  Female  \n",
            "256       4950.0  Female  \n",
            "258       4350.0  Female  \n",
            "262       4300.0  Female  \n",
            "265       4900.0  Female  \n",
            "266       4200.0  Female  \n",
            "268       5100.0  Female  \n",
            "270       4850.0  Female  \n",
            "272       4400.0  Female  \n",
            "274       4900.0  Female  \n",
            "276       4300.0  Female  \n",
            "278       4450.0  Female  \n",
            "280       4200.0  Female  \n",
            "282       4400.0  Female  \n",
            "284       4700.0  Female  \n",
            "288       4700.0  Female  \n",
            "290       4750.0  Female  \n",
            "293       5200.0  Female  \n",
            "294       4700.0  Female  \n",
            "296       4600.0  Female  \n",
            "298       4750.0  Female  \n",
            "300       4625.0  Female  \n",
            "302       4725.0  Female  \n",
            "304       4750.0  Female  \n",
            "306       4600.0  Female  \n",
            "308       4875.0  Female  \n",
            "310       4950.0  Female  \n",
            "312       4750.0  Female  \n",
            "314       4850.0  Female  \n",
            "317       4875.0  Female  \n",
            "318       4625.0  Female  \n",
            "320       4850.0  Female  \n",
            "322       4975.0  Female  \n",
            "326       4700.0  Female  \n",
            "328       4575.0  Female  \n",
            "330       5000.0  Female  \n",
            "332       4650.0  Female  \n",
            "334       4375.0  Female  \n",
            "338       4925.0  Female  \n",
            "340       4850.0  Female  \n",
            "342       5200.0  Female  \n"
          ]
        }
      ]
    },
    {
      "cell_type": "code",
      "source": [
        "print(type(heavy_female_penguins))"
      ],
      "metadata": {
        "colab": {
          "base_uri": "https://localhost:8080/"
        },
        "id": "zx2qPCD7rYvV",
        "outputId": "bda84268-b384-487f-f4f9-2c1a2c604cf5"
      },
      "execution_count": 96,
      "outputs": [
        {
          "output_type": "stream",
          "name": "stdout",
          "text": [
            "<class 'pandas.core.frame.DataFrame'>\n"
          ]
        }
      ]
    },
    {
      "cell_type": "code",
      "source": [
        "#Métodos encadenados:\n",
        "\n",
        "heavy_female_penguins = penguins[penguins['species'] == 'Chinstrap'] \\\n",
        "                                .loc [penguins['body_mass_g'] > 3500] \\\n",
        "                                ['body_mass_g'] \\\n",
        "                                .dropna() \\\n",
        "                                .astype(int) \\\n",
        "                                .sort_values(ascending = False) \\\n",
        "                                .head(10)\n",
        "\n",
        "print(heavy_female_penguins)\n",
        "\n",
        "\n",
        "\n"
      ],
      "metadata": {
        "colab": {
          "base_uri": "https://localhost:8080/"
        },
        "id": "I0rFAj0EsMvs",
        "outputId": "751fe666-cdcd-49bd-ad60-acdf6649a96f"
      },
      "execution_count": 97,
      "outputs": [
        {
          "output_type": "stream",
          "name": "stdout",
          "text": [
            "189    4800\n",
            "181    4550\n",
            "191    4500\n",
            "197    4450\n",
            "171    4400\n",
            "183    4300\n",
            "199    4300\n",
            "160    4150\n",
            "177    4150\n",
            "218    4100\n",
            "Name: body_mass_g, dtype: int64\n"
          ]
        }
      ]
    },
    {
      "cell_type": "code",
      "source": [
        "chinstrap_data = penguins.query(\"species == 'Chinstrap' \")\n",
        "heavy_chinstrap = chinstrap_data[chinstrap_data[\"body_mass_g\"]> 3500]\n",
        "body_mass = heavy_chinstrap[\"body_mass_g\"].dropna().astype(int).sort_values(ascending = False)\n",
        "print(body_mass.head(5))\n"
      ],
      "metadata": {
        "colab": {
          "base_uri": "https://localhost:8080/"
        },
        "id": "WIQLeKzWv9hc",
        "outputId": "4b1eadb1-3259-4cf1-c2e6-59856ec4c54a"
      },
      "execution_count": 98,
      "outputs": [
        {
          "output_type": "stream",
          "name": "stdout",
          "text": [
            "189    4800\n",
            "181    4550\n",
            "191    4500\n",
            "197    4450\n",
            "171    4400\n",
            "Name: body_mass_g, dtype: int64\n"
          ]
        }
      ]
    },
    {
      "cell_type": "code",
      "source": [
        "#Convertir a una lista en python\n",
        "#lista = gento_bill.to_list()\n",
        "#Utilizar una conversion directa\n",
        "lista = list(gento_bill)\n",
        "print(lista)"
      ],
      "metadata": {
        "colab": {
          "base_uri": "https://localhost:8080/"
        },
        "id": "11lCwzLHxO81",
        "outputId": "ed39c376-0b55-4949-f6c6-7df032ba0986"
      },
      "execution_count": 99,
      "outputs": [
        {
          "output_type": "stream",
          "name": "stdout",
          "text": [
            "[46.1, 50.0, 48.7, 50.0, 47.6, 46.5, 45.4, 46.7, 43.3, 46.8, 40.9, 49.0, 45.5, 48.4, 45.8, 49.3, 42.0, 49.2, 46.2, 48.7, 50.2, 45.1, 46.5, 46.3, 42.9, 46.1, 44.5, 47.8, 48.2, 50.0, 47.3, 42.8, 45.1, 59.6, 49.1, 48.4, 42.6, 44.4, 44.0, 48.7, 42.7, 49.6, 45.3, 49.6, 50.5, 43.6, 45.5, 50.5, 44.9, 45.2, 46.6, 48.5, 45.1, 50.1, 46.5, 45.0, 43.8, 45.5, 43.2, 50.4, 45.3, 46.2, 45.7, 54.3, 45.8, 49.8, 46.2, 49.5, 43.5, 50.7, 47.7, 46.4, 48.2, 46.5, 46.4, 48.6, 47.5, 51.1, 45.2, 45.2, 49.1, 52.5, 47.4, 50.0, 44.9, 50.8, 43.4, 51.3, 47.5, 52.1, 47.5, 52.2, 45.5, 49.5, 44.5, 50.8, 49.4, 46.9, 48.4, 51.1, 48.5, 55.9, 47.2, 49.1, 47.3, 46.8, 41.7, 53.4, 43.3, 48.1, 50.5, 49.8, 43.5, 51.5, 46.2, 55.1, 44.5, 48.8, 47.2, 46.8, 50.4, 45.2, 49.9]\n"
          ]
        }
      ]
    },
    {
      "cell_type": "code",
      "source": [
        "#Convertir a arreglo de numpy\n",
        "import numpy as np\n",
        "arreglo = gento_bill.to_numpy()\n",
        "print(arreglo)"
      ],
      "metadata": {
        "colab": {
          "base_uri": "https://localhost:8080/"
        },
        "id": "g7-HUTwCx2AW",
        "outputId": "d6e78475-257a-492c-febd-21f150ec003f"
      },
      "execution_count": 100,
      "outputs": [
        {
          "output_type": "stream",
          "name": "stdout",
          "text": [
            "[46.1 50.  48.7 50.  47.6 46.5 45.4 46.7 43.3 46.8 40.9 49.  45.5 48.4\n",
            " 45.8 49.3 42.  49.2 46.2 48.7 50.2 45.1 46.5 46.3 42.9 46.1 44.5 47.8\n",
            " 48.2 50.  47.3 42.8 45.1 59.6 49.1 48.4 42.6 44.4 44.  48.7 42.7 49.6\n",
            " 45.3 49.6 50.5 43.6 45.5 50.5 44.9 45.2 46.6 48.5 45.1 50.1 46.5 45.\n",
            " 43.8 45.5 43.2 50.4 45.3 46.2 45.7 54.3 45.8 49.8 46.2 49.5 43.5 50.7\n",
            " 47.7 46.4 48.2 46.5 46.4 48.6 47.5 51.1 45.2 45.2 49.1 52.5 47.4 50.\n",
            " 44.9 50.8 43.4 51.3 47.5 52.1 47.5 52.2 45.5 49.5 44.5 50.8 49.4 46.9\n",
            " 48.4 51.1 48.5 55.9 47.2 49.1 47.3 46.8 41.7 53.4 43.3 48.1 50.5 49.8\n",
            " 43.5 51.5 46.2 55.1 44.5 48.8 47.2 46.8 50.4 45.2 49.9]\n"
          ]
        }
      ]
    },
    {
      "cell_type": "code",
      "source": [
        "#Estructuras de datos en pandas\n",
        "#pd.series (Series)\n",
        "import pandas as pd\n",
        "serie = pd.Series([1, 2, 3, 4, 5])\n",
        "print(serie)"
      ],
      "metadata": {
        "colab": {
          "base_uri": "https://localhost:8080/"
        },
        "id": "JuGlMmf-yag9",
        "outputId": "256e077a-f4c5-40fc-b0ad-b93bbe329a69"
      },
      "execution_count": 101,
      "outputs": [
        {
          "output_type": "stream",
          "name": "stdout",
          "text": [
            "0    1\n",
            "1    2\n",
            "2    3\n",
            "3    4\n",
            "4    5\n",
            "dtype: int64\n"
          ]
        }
      ]
    },
    {
      "cell_type": "code",
      "source": [
        "#pd.Dataframe ( DataFrame)\n",
        "data = {\n",
        "    'Nombre': ['Juan', 'María', 'Pedro', 'Ana'],\n",
        "    'Edad': [25, 30, 35, 40],\n",
        "    'Ciudad': ['Madrid', 'Barcelona', 'Valencia', 'Sevilla']\n",
        "}\n",
        "df = pd.DataFrame(data)\n",
        "print(df)"
      ],
      "metadata": {
        "colab": {
          "base_uri": "https://localhost:8080/"
        },
        "id": "glg7xkqyETcK",
        "outputId": "35d72e2b-47be-4aaa-f8c1-efaced2cfb2b"
      },
      "execution_count": 102,
      "outputs": [
        {
          "output_type": "stream",
          "name": "stdout",
          "text": [
            "  Nombre  Edad     Ciudad\n",
            "0   Juan    25     Madrid\n",
            "1  María    30  Barcelona\n",
            "2  Pedro    35   Valencia\n",
            "3    Ana    40    Sevilla\n"
          ]
        }
      ]
    },
    {
      "cell_type": "code",
      "source": [
        "#pd.index (index)\n",
        "print(df.index)"
      ],
      "metadata": {
        "colab": {
          "base_uri": "https://localhost:8080/"
        },
        "id": "UITRTApZFa7m",
        "outputId": "a7c66d69-7c90-4788-b984-d4a02b488bb9"
      },
      "execution_count": 103,
      "outputs": [
        {
          "output_type": "stream",
          "name": "stdout",
          "text": [
            "RangeIndex(start=0, stop=4, step=1)\n"
          ]
        }
      ]
    },
    {
      "cell_type": "code",
      "source": [
        "#pd.MultiIndex\n",
        "arrays = [\n",
        "    ['España', 'Francia', 'Francia', 'Alemania', 'Alemania'],\n",
        "    ['Madrid',  'París', 'Lyon', 'Berlín', 'Munich']\n",
        "]\n",
        "\n",
        "multi_index =  pd.MultiIndex.from_arrays(arrays, names=('País', 'Ciudad'))\n",
        "print(multi_index)"
      ],
      "metadata": {
        "colab": {
          "base_uri": "https://localhost:8080/"
        },
        "id": "zGMvGI9cFwYm",
        "outputId": "4791f912-b28e-4473-9e45-6e16692e1ade"
      },
      "execution_count": 104,
      "outputs": [
        {
          "output_type": "stream",
          "name": "stdout",
          "text": [
            "MultiIndex([(  'España', 'Madrid'),\n",
            "            ( 'Francia',  'París'),\n",
            "            ( 'Francia',   'Lyon'),\n",
            "            ('Alemania', 'Berlín'),\n",
            "            ('Alemania', 'Munich')],\n",
            "           names=['País', 'Ciudad'])\n"
          ]
        }
      ]
    },
    {
      "cell_type": "code",
      "source": [
        "#pd.Categorical (categoría)\n",
        "categorias = pd.Categorical(['bajo','medio','alto','medio', 'alto'])\n",
        "print(categorias)"
      ],
      "metadata": {
        "colab": {
          "base_uri": "https://localhost:8080/"
        },
        "id": "mrXvj5KYGjIq",
        "outputId": "88024d3e-ab5f-4d34-d655-786aae39c52d"
      },
      "execution_count": 105,
      "outputs": [
        {
          "output_type": "stream",
          "name": "stdout",
          "text": [
            "['bajo', 'medio', 'alto', 'medio', 'alto']\n",
            "Categories (3, object): ['alto', 'bajo', 'medio']\n"
          ]
        }
      ]
    },
    {
      "cell_type": "code",
      "source": [
        "#pd.Interval (Intervalo)\n",
        "intervalo = pd.Interval(left=10, right=20, closed='right')\n",
        "print(intervalo)\n",
        "#Ejercicio práctico:\n",
        "data = {'paciente': ['Ana', 'Luis', 'Maria', 'Pedro', 'Sofia'],\n",
        "        'glucosa': [85, 110, 130, 95, 100]}\n",
        "df = pd.DataFrame(data)\n",
        "intervalos = [pd.Interval(left = 70, right = 99, closed = 'both'),\n",
        "              pd.Interval(left=100, right=125, closed='both'),\n",
        "              pd.Interval(left= 126, right=float('inf'), closed = 'both')]\n",
        "\n",
        "etiquetas = ['Normal', 'Pre-diabetes', 'Diabetes']\n",
        "def clasificar_glucosa(glucosa):\n",
        "    for intervalo, categoria in zip(intervalos, etiquetas):\n",
        "        if glucosa in intervalo:\n",
        "            return categoria\n",
        "    return 'Desconocida'\n",
        "\n",
        "df['categoria_glucosa'] = df['glucosa'].apply(clasificar_glucosa)\n",
        "print(df)"
      ],
      "metadata": {
        "colab": {
          "base_uri": "https://localhost:8080/"
        },
        "id": "EWl5_PU7IJ84",
        "outputId": "4018ade8-7c82-4d20-bd93-981eb653ea03"
      },
      "execution_count": 106,
      "outputs": [
        {
          "output_type": "stream",
          "name": "stdout",
          "text": [
            "(10, 20]\n",
            "  paciente  glucosa categoria_glucosa\n",
            "0      Ana       85            Normal\n",
            "1     Luis      110      Pre-diabetes\n",
            "2    Maria      130          Diabetes\n",
            "3    Pedro       95            Normal\n",
            "4    Sofia      100      Pre-diabetes\n"
          ]
        }
      ]
    },
    {
      "cell_type": "code",
      "source": [
        "#pf.Sparse\n",
        "from pandas.arrays import SparseArray\n",
        "sparse_array = SparseArray([1, 2, 3, 4, 5, 0, 0, 6])\n",
        "print(sparse_array)"
      ],
      "metadata": {
        "colab": {
          "base_uri": "https://localhost:8080/"
        },
        "id": "S60L_sSoIsUG",
        "outputId": "79df4932-38d3-4178-e66d-99d0b507c06e"
      },
      "execution_count": 107,
      "outputs": [
        {
          "output_type": "stream",
          "name": "stdout",
          "text": [
            "[1, 2, 3, 4, 5, 0, 0, 6]\n",
            "Fill: 0\n",
            "IntIndex\n",
            "Indices: array([0, 1, 2, 3, 4, 7], dtype=int32)\n",
            "\n"
          ]
        }
      ]
    },
    {
      "cell_type": "markdown",
      "source": [
        "# **EJERCICIO DISTRIBUCIÓN PROBABILIDAD PENGUINS OTRA FORMA**"
      ],
      "metadata": {
        "id": "Mv_yoZUBfZgj"
      }
    },
    {
      "cell_type": "code",
      "source": [
        "#EJERCICIO DISTRIBUCIÓN PROBABILIDAD PENGUINS VERSION MEJORADA\n",
        "penguins = sns.load_dataset(\"penguins\")\n",
        "#1 Ajusta una distribución normal a la variable body_mass_g para cada especie.\n",
        "#Agrupar por especie y aplicar análisis en una sola pasada\n",
        "\n",
        "#Crear subplots para todas las especies\n",
        "especies = penguins['species'].unique()\n",
        "fig, axes = plt.subplots(1, len(especies), figsize=(15, 5), sharey=True)\n",
        "\n",
        "\n",
        "resultado = []\n",
        "for i, (especie, grupo) in enumerate(penguins.groupby('species')):  #Usamos .groupby\n",
        "    #Filtrar y limpiar la columna 'body_mass_g'\n",
        "    data = grupo['body_mass_g'].dropna()\n",
        "    mean, std = norm.fit(data)\n",
        "\n",
        "    #Crear histograma y distribuión ajustada:\n",
        "    sns.histplot(data, kde=True, stat ='density', ax = axes[i], label=f'Datos Reales')\n",
        "    x = np.linspace(data.min(), data.max(), 100)\n",
        "\n",
        "    axes[i].plot(x, norm.pdf(x, mean, std), label='Distribución Normal Ajustada')\n",
        "    #plt.title(f'Distribución de Masa Corporal para {especie}')\n",
        "    #Personalizar el gráfico\n",
        "    axes[i].set_title(f'{especie}')\n",
        "    axes[i].legend()\n",
        "    #plt.show()\n",
        "\n",
        "plt.tight_layout()\n",
        "plt.show()\n"
      ],
      "metadata": {
        "colab": {
          "base_uri": "https://localhost:8080/",
          "height": 436
        },
        "id": "_JqbPxgYezMn",
        "outputId": "6e2dd527-a344-4dbd-fb34-d192d4733559"
      },
      "execution_count": 113,
      "outputs": [
        {
          "output_type": "display_data",
          "data": {
            "text/plain": [
              "<Figure size 1500x500 with 3 Axes>"
            ],
            "image/png": "[encoded data removed]"
          },
          "metadata": {}
        }
      ]
    }
  ]
}