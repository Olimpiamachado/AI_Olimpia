{
  "nbformat": 4,
  "nbformat_minor": 0,
  "metadata": {
    "colab": {
      "provenance": [],
      "authorship_tag": "ABX9TyM2ew1D6aT7lugssy4wMetU",
      "include_colab_link": true
    },
    "kernelspec": {
      "name": "python3",
      "display_name": "Python 3"
    },
    "language_info": {
      "name": "python"
    }
  },
  "cells": [
    {
      "cell_type": "markdown",
      "metadata": {
        "id": "view-in-github",
        "colab_type": "text"
      },
      "source": [
        "<a href=\"https://colab.research.google.com/github/Olimpiamachado/AI_Olimpia/blob/main/An%C3%A1lisis_Exploratorio_de_Datos_en_el_Sector_Biosanitario.ipynb\" target=\"_parent\"><img src=\"https://colab.research.google.com/assets/colab-badge.svg\" alt=\"Open In Colab\"/></a>"
      ]
    },
    {
      "cell_type": "code",
      "execution_count": null,
      "metadata": {
        "id": "ZZKT9SsCcSCr"
      },
      "outputs": [],
      "source": []
    },
    {
      "cell_type": "markdown",
      "source": [
        "# Análisis Exploratorio de Datos en el Sector Biosanitario\n",
        "**Tema:** Interpretación de la información contenida en un conjunto de datos.\n",
        "\n",
        "**Objetivo práctico:** Interpretar los datos a través de estadísticos básicos y técnicas de visualización.\n",
        "\n",
        "**Descripción**: En este ejercicio, se realizará un análisis exploratorio de un conjunto de datos biosanitarios. Deberán calcular estadísticos básicos como la media, mediana y desviación estándar, además de crear visualizaciones como histogramas y diagramas de dispersión para observar la distribución de los datos. Finalmente, aplicarán un algoritmo de K-means clustering para identificar posibles grupos o patrones dentro de los datos y graficar los resultados."
      ],
      "metadata": {
        "id": "yZ8byUO2cfn0"
      }
    },
    {
      "cell_type": "markdown",
      "source": [
        "Instrucciones:\n",
        "1. **Obtención del conjunto de datos:** Utiliza el conjunto de datos sintéticos. Este conjunto debe contener características como la edad, el nivel de glucosa en sangre, la presión arterial, entre otras."
      ],
      "metadata": {
        "id": "wEoJBIX0cf0m"
      }
    },
    {
      "cell_type": "markdown",
      "source": [],
      "metadata": {
        "id": "0HwQP4yNdkS4"
      }
    },
    {
      "cell_type": "code",
      "source": [],
      "metadata": {
        "id": "qqoGDZYOdU9p"
      },
      "execution_count": null,
      "outputs": []
    },
    {
      "cell_type": "markdown",
      "source": [
        "2. **Exploración de los datos:**\n",
        "-  Carga los datos en un entorno de trabajo usando Pandas.\n",
        "- Inspecciona las primeras filas del conjunto de datos para familiarizarte con su estructura."
      ],
      "metadata": {
        "id": "LLFm9QIXcgD8"
      }
    },
    {
      "cell_type": "code",
      "source": [],
      "metadata": {
        "id": "vAcrO1I4dloZ"
      },
      "execution_count": null,
      "outputs": []
    },
    {
      "cell_type": "markdown",
      "source": [
        "3. **Estadísticos básicos:**\n",
        "-  Calcula la media, mediana y desviación estándar de las principales variables del conjunto de datos, como la edad, el nivel de glucosa y la presión arterial.\n",
        "- Comenta sobre la tendencia central y la dispersión de los datos basándote en estos estadísticos."
      ],
      "metadata": {
        "id": "_ADx4aqhdmC5"
      }
    },
    {
      "cell_type": "code",
      "source": [],
      "metadata": {
        "id": "6ppWcc-vdmYK"
      },
      "execution_count": null,
      "outputs": []
    },
    {
      "cell_type": "markdown",
      "source": [
        "4. **Visualización de los datos:**\n",
        "- Crea un histograma para visualizar la distribución de variables como el nivel de glucosa en sangre, la edad y la presión arterial.\n",
        "Comenta sobre la forma de la distribución (por ejemplo, si es simétrica, sesgada, etc.).\n",
        "- Crea un diagrama de dispersión para explorar la relación entre dos variables de interés, como la edad y el nivel de glucosa. Observa si parece haber algún patrón o correlación."
      ],
      "metadata": {
        "id": "JAgbZcKSdmnn"
      }
    },
    {
      "cell_type": "code",
      "source": [],
      "metadata": {
        "id": "JH9ZNV4Yd648"
      },
      "execution_count": null,
      "outputs": []
    },
    {
      "cell_type": "markdown",
      "source": [
        "5. **Aplicación de K-means clustering:**\n",
        "- Normaliza o estandariza las variables si es necesario.\n",
        "- Aplica el algoritmo K-means clustering para agrupar a los pacientes en clusters. Escoge un valor apropiado para el número de clusters (por ejemplo, 3 - 4 clusters, dependiendo de los datos).\n",
        "- Visualiza los resultados de los clusters usando un diagrama de dispersión, donde los puntos de diferentes clusters estén coloreados de manera distinta.\n",
        "- Interpreta los resultados de los clusters y explica si hay algún patrón o grupo que se pueda asociar con características específicas de los pacientes."
      ],
      "metadata": {
        "id": "EfMRydB7d7Iy"
      }
    },
    {
      "cell_type": "code",
      "source": [],
      "metadata": {
        "id": "szqWjFIId7T8"
      },
      "execution_count": null,
      "outputs": []
    },
    {
      "cell_type": "markdown",
      "source": [
        "**6. Conclusiones:**\n",
        "- Comenta sobre los hallazgos obtenidos de los estadísticos básicos y las visualizaciones. ¿Cómo afecta la edad y el nivel de glucosa en sangre a la salud de los pacientes?\n",
        "- Reflexiona sobre cómo el análisis de clusters puede ayudar a identificar grupos de pacientes con características similares que podrían requerir tratamientos específicos."
      ],
      "metadata": {
        "id": "bldASegxd7gw"
      }
    },
    {
      "cell_type": "code",
      "source": [],
      "metadata": {
        "id": "oFMJiZrseo9i"
      },
      "execution_count": null,
      "outputs": []
    }
  ]
}