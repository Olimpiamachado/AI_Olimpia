{
 "cells": [
  {
   "cell_type": "markdown",
   "metadata": {
    "id": "Sz8ogFjl7a8b"
   },
   "source": [
    "# TUTORIAL: ANÁLISIS EXPLORATORIO DE DATOS CON PYTHON Y PANDAS"
   ]
  },
  {
   "cell_type": "markdown",
   "metadata": {
    "id": "jYJxCZNZDfYe"
   },
   "source": [
    "# 1. El problema del negocio\n",
    "\n",
    "Una entidad bancaria contrata a una empresa de marketing encargada de contactar telefónicamente a posibles clientes para determinar si están interesados o no en adquirir un certificado de depósito a término con el banco.\n",
    "\n",
    "¿Qué perfil tienen los clientes con mayor potencial de conversión?"
   ]
  },
  {
   "cell_type": "markdown",
   "metadata": {
    "id": "4WOEkmPt7aHf"
   },
   "source": [
    "#2. El set de datos después de la limpieza\n",
    "\n",
    "La información recolectada por la empresa de mercadeo se encuentra en un archivo CSV (`dataset_banco_clean.csv`) con 45189 filas y 17 columnas.\n",
    "\n",
    "Cada registro contiene 16 características (las primeras 16 columnas) y una categoría (\"yes\" o \"no\" dependiendo de si la persona está o no interesada en adquirir el producto). Las columnas son:\n",
    "\n",
    "1. \"age\":  edad (numérica)\n",
    "2. \"job\": tipo de trabajo (categórica: \"admin.\", \"unknown\", \"unemployed\", \"management\", \"housemaid\", \"entrepreneur\", \"student\", \"blue-collar\",\"self-employed\", \"retired\", \"technician\", \"services\") \n",
    "3. \"marital\": estado civil (categórica: \"married\", \"divorced\", \"single\")\n",
    "4. \"education\": nivel educativo (categórica: \"unknown\", \"secondary\", \"primary\", \"tertiary\")\n",
    "5. \"default\": si dejó de pagar sus obligaciones (categórica: \"yes\", \"no\")\n",
    "6. \"balance\": saldo promedio anual en euros (numérica)\n",
    "7. \"housing\": ¿tiene o no crédito hipotecario? (categórica: \"yes\", \"no\")\n",
    "8. \"loan\": ¿tiene créditos de consumo? (categórica: \"yes\", \"no\")\n",
    "9. \"contact\": medio a través del cual fue contactado (categórica: \"unknown\", \"telephone\", \"cellular\") \n",
    "10. \"day\": último día del mes en el que fue contactada (numérica)\n",
    "11. \"month\": último mes en el que fue contactada (categórica: \"jan\", \"feb\", \"mar\", ..., \"nov\", \"dec\")\n",
    "12. \"duration\": duración (en segundos) del último contacto (numérica)\n",
    "13. \"campaign\": número total de veces que fue contactada durante la campaña (numérica)\n",
    "14. \"pdays\": número de días transcurridos después de haber sido contactado antes de la campaña actual (numérica. -1 indica que no fue contactado previamente)\n",
    "15. \"previous\": número de veces que ha sido contactada antes de esta campaña (numérica)\n",
    "16. \"poutcome\": resultado de la campaña de marketing anterior (categórica: \"unknown\", \"other\", \"failure\", \"success\")\n",
    "17. \"y\": categoría ¿el cliente se suscribió a un depósito a término? (categórica: \"yes\", \"no\")"
   ]
  },
  {
   "cell_type": "markdown",
   "metadata": {
    "id": "7wXHT_PLEFkr"
   },
   "source": [
    "#3. Lectura del dataset"
   ]
  },
  {
   "cell_type": "code",
   "execution_count": 1,
   "metadata": {
    "executionInfo": {
     "elapsed": 1200,
     "status": "ok",
     "timestamp": 1671481191538,
     "user": {
      "displayName": "Miguel Sotaquirá",
      "userId": "08038952820764930757"
     },
     "user_tz": 300
    },
    "id": "SQ_-SdsX7enM"
   },
   "outputs": [],
   "source": [
    "# Importar librerías, pandas, matplotlib, seaborn\n"
   ]
  },
  {
   "cell_type": "code",
   "execution_count": 2,
   "metadata": {
    "colab": {
     "base_uri": "https://localhost:8080/"
    },
    "executionInfo": {
     "elapsed": 20429,
     "status": "ok",
     "timestamp": 1671481228995,
     "user": {
      "displayName": "Miguel Sotaquirá",
      "userId": "08038952820764930757"
     },
     "user_tz": 300
    },
    "id": "yECOD3UAEV-a",
    "outputId": "311a7986-6371-4d94-b21c-e9f5b88941ae"
   },
   "outputs": [],
   "source": [
    "# Lectura\n"
   ]
  },
  {
   "cell_type": "code",
   "execution_count": 3,
   "metadata": {
    "colab": {
     "base_uri": "https://localhost:8080/",
     "height": 288
    },
    "executionInfo": {
     "elapsed": 207,
     "status": "ok",
     "timestamp": 1671481233164,
     "user": {
      "displayName": "Miguel Sotaquirá",
      "userId": "08038952820764930757"
     },
     "user_tz": 300
    },
    "id": "DAurjZa07b5Z",
    "outputId": "302a2b68-032a-4ff6-e07a-24161001e9ca"
   },
   "outputs": [],
   "source": [
    "# Mostrar la forma y las primeras filas del conjunto de datos\n"
   ]
  },
  {
   "cell_type": "markdown",
   "metadata": {
    "id": "gbT63UImRsy4"
   },
   "source": [
    "#4. Análisis exploratorio\n",
    "\n",
    "La idea es usar herramientas estadísticas y de visualización para:\n",
    "\n",
    "- Crear un mapa mental del set de datos (entenderlo)\n",
    "- Empezar a encontrar respuestas a la pregunta planteada inicialmente (¿qué perfil tienen los clientes con mayor potencial de conversión?)\n",
    "\n",
    "Llevaremos a cabo estas fases:\n",
    "\n",
    "1. Análisis de cada variable de manera individual\n",
    "2. Análisis univariado: relación de cada variable predictora con la variable a predecir\n",
    "3. Análisis bivariado: relación de pares de variables predictoras con la variable a predecir\n",
    "\n",
    "translate:\n",
    "- Analysis of each variable individually\n",
    "- Univariate analysis: relationship of each predictor variable with the target variable\n",
    "- Bivariate analysis: relationship of pairs of predictor variables with the target variable"
   ]
  },
  {
   "cell_type": "markdown",
   "metadata": {
    "id": "vQHLenXuSPCb"
   },
   "source": [
    "##4.1 Análisis de cada variable de manera individual\n",
    "\n",
    "Nos permite entender las características generales de cada variable de nuestro set de datos."
   ]
  },
  {
   "cell_type": "code",
   "execution_count": 4,
   "metadata": {
    "colab": {
     "base_uri": "https://localhost:8080/"
    },
    "executionInfo": {
     "elapsed": 211,
     "status": "ok",
     "timestamp": 1671481423036,
     "user": {
      "displayName": "Miguel Sotaquirá",
      "userId": "08038952820764930757"
     },
     "user_tz": 300
    },
    "id": "hoqrRlt_BWFZ",
    "outputId": "0d9ae89c-74cd-4094-8534-9dacf92d2f7a"
   },
   "outputs": [],
   "source": [
    "# Con data.info() podemos ver las variables categóricas\n",
    "# (Dtype=object)\n"
   ]
  },
  {
   "cell_type": "code",
   "execution_count": 5,
   "metadata": {
    "colab": {
     "base_uri": "https://localhost:8080/",
     "height": 1000
    },
    "executionInfo": {
     "elapsed": 2376,
     "status": "ok",
     "timestamp": 1671481528631,
     "user": {
      "displayName": "Miguel Sotaquirá",
      "userId": "08038952820764930757"
     },
     "user_tz": 300
    },
    "id": "CgPpqtH6SbPg",
    "outputId": "015dcbc6-64b5-4375-9ff0-91ca9a85241d"
   },
   "outputs": [],
   "source": [
    "# Tomemos las variables categóricas y generemos gráficos de barras\n",
    "\n",
    "col_cat = []\n",
    "\n",
    "# Gráficos de barras de conteo\n",
    "# Crear una figura con múltiples subgráficos, uno por cada columna categórica\n",
    "# Ajustar el espacio vertical entre los subgráficos para mejor visualización\n",
    "\n",
    "\n",
    "\n"
   ]
  },
  {
   "cell_type": "markdown",
   "metadata": {
    "id": "8CtsBydBUwtw"
   },
   "source": [
    "**Observaciones:**\n",
    "\n",
    "Niveles de cada variable de interés:\n",
    "- 'job': 12\n",
    "- 'marital': 3 (married, single, divorced)\n",
    "- 'education': 4 (primary, secondary, tertiary, unknown)\n",
    "- 'default': 2 (Yes, No). En este caso la gran mayoría de contactados tienen valores 'No'\n",
    "- 'housing': 2 (Yes, No). En este caso el set está relativamente balanceado.\n",
    "- 'loan': 2 (Yes, No). En este caso la gran mayoría contiene valores 'No'.\n",
    "- 'poutcome': 4 (unknown, failure, other, success). La gran mayoría está en el nivel 'unknown'\n",
    "- 'y': 2 (No, Yes). La gran mayoría está en el nivel 'No'. Si mas adelante se implemente algún modelo predictivo con Machine Learning se debe tener en cuenta este desbalance."
   ]
  },
  {
   "cell_type": "code",
   "execution_count": 6,
   "metadata": {
    "colab": {
     "base_uri": "https://localhost:8080/"
    },
    "executionInfo": {
     "elapsed": 169,
     "status": "ok",
     "timestamp": 1671481754992,
     "user": {
      "displayName": "Miguel Sotaquirá",
      "userId": "08038952820764930757"
     },
     "user_tz": 300
    },
    "id": "ybkh-ernSseF",
    "outputId": "894983af-cbf5-4f26-fe8e-abdca4c5e113"
   },
   "outputs": [],
   "source": [
    "# Eliminemos las columnas \"contact\", \"month\", \"day\", \"duration\", \"campaign\",\n",
    "# \"pdays\" y \"previous\" pues no aportan información sobre el cliente\n",
    "\n"
   ]
  },
  {
   "cell_type": "markdown",
   "metadata": {
    "id": "A1FSj2Z5X0mS"
   },
   "source": [
    "Veamos inicialmente el comportamiento de las variables numéricas ('age' y 'balance')"
   ]
  },
  {
   "cell_type": "code",
   "execution_count": 7,
   "metadata": {
    "colab": {
     "base_uri": "https://localhost:8080/",
     "height": 300
    },
    "executionInfo": {
     "elapsed": 201,
     "status": "ok",
     "timestamp": 1671481809909,
     "user": {
      "displayName": "Miguel Sotaquirá",
      "userId": "08038952820764930757"
     },
     "user_tz": 300
    },
    "id": "_6wOsbREYFOm",
    "outputId": "5fc64dd0-86d0-42b5-d6d5-9a366c4aaa30"
   },
   "outputs": [],
   "source": [
    "# Podemos extraer algunas variables estadísticas descriptivas básicas\n"
   ]
  },
  {
   "cell_type": "code",
   "execution_count": 8,
   "metadata": {
    "colab": {
     "base_uri": "https://localhost:8080/",
     "height": 350
    },
    "executionInfo": {
     "elapsed": 1315,
     "status": "ok",
     "timestamp": 1671481944058,
     "user": {
      "displayName": "Miguel Sotaquirá",
      "userId": "08038952820764930757"
     },
     "user_tz": 300
    },
    "id": "VxEln53IYNIz",
    "outputId": "55558065-c747-4f6f-ce8b-0b64879e3d46"
   },
   "outputs": [],
   "source": [
    "# Pero muchas veces es más útil graficar dichas variables\n",
    "\n",
    "# Dibujar histogramas\n"
   ]
  },
  {
   "cell_type": "code",
   "execution_count": 9,
   "metadata": {
    "colab": {
     "base_uri": "https://localhost:8080/"
    },
    "executionInfo": {
     "elapsed": 216,
     "status": "ok",
     "timestamp": 1671481999966,
     "user": {
      "displayName": "Miguel Sotaquirá",
      "userId": "08038952820764930757"
     },
     "user_tz": 300
    },
    "id": "7_xv9GHDZud-",
    "outputId": "381bbb82-7069-434d-db3d-e4bf5c89c376"
   },
   "outputs": [],
   "source": [
    "# Veamos en detalle lo que ocurre con balance\n"
   ]
  },
  {
   "cell_type": "markdown",
   "metadata": {
    "id": "u1s_ZEjqY0S7"
   },
   "source": [
    "**Observaciones:**\n",
    "\n",
    "- La mayor parte del grupo contactado tiene edades entre los 30 y los 50 años, con sesgo hacia los 30-40 años\n",
    "- La mayor parte del grupo contactado (75%) tiene saldos o negativos o que no superan los 1500 euros aproximadamente."
   ]
  },
  {
   "cell_type": "markdown",
   "metadata": {
    "id": "WBRbd-MQbMu_"
   },
   "source": [
    "##4.2 Análisis univariado\n",
    "\n",
    "Teniendo claras algunas características generales de cada dato individual, la idea ahora es analizar si existe alguna relación entre las posibles variables predictoras ('age', 'balance', 'job', 'marital', 'education', etc.) y la variable a predecir ('y').\n",
    "\n",
    "Esto se conoce como análisis univariado. \n",
    "\n",
    "⚠️⚠️⚠️ ADVERTENCIA ⚠️⚠️⚠️\n",
    "\n",
    "Este análisis nos mostrará sólo una faceta de las posibles relaciones entre una cada variable predictora y la variable a predecir, y no es suficiente para extraer conclusiones definitivas."
   ]
  },
  {
   "cell_type": "code",
   "execution_count": 10,
   "metadata": {
    "executionInfo": {
     "elapsed": 195,
     "status": "ok",
     "timestamp": 1671482268857,
     "user": {
      "displayName": "Miguel Sotaquirá",
      "userId": "08038952820764930757"
     },
     "user_tz": 300
    },
    "id": "afsIaQTKytXJ"
   },
   "outputs": [],
   "source": [
    "# Comencemos representando la variable a predecir de forma binaria:\n",
    "# 'yes' = 1, 'no' = 0\n",
    "\n",
    "\n",
    "# De esta forma resulta fácil calcular la tasa de conversión: el promedio\n",
    "# de la columna 'y_bin'"
   ]
  },
  {
   "cell_type": "code",
   "execution_count": 11,
   "metadata": {
    "colab": {
     "base_uri": "https://localhost:8080/",
     "height": 351
    },
    "executionInfo": {
     "elapsed": 460,
     "status": "ok",
     "timestamp": 1671482304248,
     "user": {
      "displayName": "Miguel Sotaquirá",
      "userId": "08038952820764930757"
     },
     "user_tz": 300
    },
    "id": "xtRgD6ACYarO",
    "outputId": "55876463-a7bf-41bc-e7e2-6b65492ab24f"
   },
   "outputs": [],
   "source": [
    "# Analizar la relación entre las variables numéricas y la variable a predecir ('y')\n"
   ]
  },
  {
   "cell_type": "markdown",
   "metadata": {
    "id": "o32fcHXgcTC6"
   },
   "source": [
    "**Observaciones:**\n",
    "- Ni en 'age' ni en 'balance' se observan diferencias entre las personas que adquirieron o no el producto.\n",
    "- Al parecer las variables numéricas no resultan en principio siendo variables predictivas.\n",
    "\n",
    "Sin embargo estas variables numéricas se encuentran en un amplio rango.\n",
    "\n",
    "Podemos calcular las tasas de conversión definiendo intervalos para estas variables numéricas y ver si podemos extraer información relevante de ese análisis:"
   ]
  },
  {
   "cell_type": "code",
   "execution_count": 12,
   "metadata": {
    "executionInfo": {
     "elapsed": 173,
     "status": "ok",
     "timestamp": 1671482554614,
     "user": {
      "displayName": "Miguel Sotaquirá",
      "userId": "08038952820764930757"
     },
     "user_tz": 300
    },
    "id": "C6qJOaJozhBL"
   },
   "outputs": [],
   "source": [
    "# Función para graficar tasas de conversión\n",
    "\n",
    "def graficar_tasas_conversion(var_predictora, var_predecir, type='line', order=None):\n",
    "    x, y = var_predictora, var_predecir\n",
    "\n",
    "    # Generar agrupaciones (groupby), calcular tasa de conversión (mean),\n",
    "    # multiplicarla por 100 (mul(100))\n",
    "    grupo = data.groupby(x)[y].mean().mul(100).rename('tasa_conv').reset_index()\n",
    "\n",
    "    # Y generar gráfica\n",
    "    if type=='line': # Útil para rangos continuos\n",
    "        plt.figure(figsize=(10,6))\n",
    "        sns.lineplot(x=var_predictora, y='tasa_conv', data=grupo)\n",
    "        plt.grid()\n",
    "    elif type=='bar': # Útil si los datos están divididos en rangos o son categóricos\n",
    "        plt.figure(figsize=(14,6))\n",
    "        sns.barplot(x=var_predictora, y='tasa_conv', data=grupo, order=order)\n",
    "        plt.grid()\n",
    "    elif type=='scatter': # Útil si los datos están divididos en rangos o son categóricos\n",
    "        plt.figure(figsize=(10,6)) \n",
    "        sns.scatterplot(x=var_predictora, y='tasa_conv', data=grupo)\n",
    "        plt.grid()"
   ]
  },
  {
   "cell_type": "code",
   "execution_count": 13,
   "metadata": {
    "colab": {
     "base_uri": "https://localhost:8080/",
     "height": 388
    },
    "executionInfo": {
     "elapsed": 502,
     "status": "ok",
     "timestamp": 1671482579477,
     "user": {
      "displayName": "Miguel Sotaquirá",
      "userId": "08038952820764930757"
     },
     "user_tz": 300
    },
    "id": "i1A47SGB0DBd",
    "outputId": "12df9d29-f0f0-4f75-e57a-8b97640a7c7f"
   },
   "outputs": [],
   "source": [
    "# Y graficar las tasas de conversión para la variable edad\n"
   ]
  },
  {
   "cell_type": "markdown",
   "metadata": {
    "id": "FUoKyWViUbMY"
   },
   "source": [
    "**Observaciones:**\n",
    "\n",
    "- En este caso SÍ se observan diferencias en las tasas de conversión por edad\n",
    "- Podríamos establecer tres rangos aproximados: 18-25 años, 26-59 años y 60 años en adelante"
   ]
  },
  {
   "cell_type": "code",
   "execution_count": 14,
   "metadata": {
    "colab": {
     "base_uri": "https://localhost:8080/",
     "height": 389
    },
    "executionInfo": {
     "elapsed": 451,
     "status": "ok",
     "timestamp": 1671482730859,
     "user": {
      "displayName": "Miguel Sotaquirá",
      "userId": "08038952820764930757"
     },
     "user_tz": 300
    },
    "id": "JKZ6P8AmUpf6",
    "outputId": "b68bc1a1-15d6-4cf0-d7fa-b40f0c1d16d9"
   },
   "outputs": [],
   "source": [
    "# Creemos subbrupos de edades y calculemos las tasas de conversión en cada caso\n",
    "\n",
    "# Nueva columna en el dataset: \"grupos_edad\"\n",
    "\n",
    "\n",
    "\n",
    "# Y grafiquemos la tasa de conversión para esta nueva columna\n"
   ]
  },
  {
   "cell_type": "markdown",
   "metadata": {
    "id": "yp-BKkxiXB96"
   },
   "source": [
    "**Observaciones:**\n",
    "\n",
    "- Tenemos 3 rangos de edad bastante diferenciados y para los cuales se alcanzan diferentes tasas de conversión: 18-25 años (24%), 26-60 años (11%), más de 60 años (43%)"
   ]
  },
  {
   "cell_type": "code",
   "execution_count": 15,
   "metadata": {
    "executionInfo": {
     "elapsed": 178,
     "status": "ok",
     "timestamp": 1671482831875,
     "user": {
      "displayName": "Miguel Sotaquirá",
      "userId": "08038952820764930757"
     },
     "user_tz": 300
    },
    "id": "CCoN6lfadobW"
   },
   "outputs": [],
   "source": [
    "# Y eliminemos la columna \"age\" (dejando sólo los grupos de edad)\n"
   ]
  },
  {
   "cell_type": "code",
   "execution_count": 16,
   "metadata": {
    "colab": {
     "base_uri": "https://localhost:8080/",
     "height": 388
    },
    "executionInfo": {
     "elapsed": 259,
     "status": "ok",
     "timestamp": 1671482834131,
     "user": {
      "displayName": "Miguel Sotaquirá",
      "userId": "08038952820764930757"
     },
     "user_tz": 300
    },
    "id": "PbK1SC1EXRUE",
    "outputId": "0eb041dd-3e27-4126-e306-fd6164ed1c66"
   },
   "outputs": [],
   "source": [
    "# Realicemos el mismo análisis pero para la variable 'balance'\n"
   ]
  },
  {
   "cell_type": "code",
   "execution_count": 17,
   "metadata": {
    "colab": {
     "base_uri": "https://localhost:8080/",
     "height": 389
    },
    "executionInfo": {
     "elapsed": 461,
     "status": "ok",
     "timestamp": 1671482947014,
     "user": {
      "displayName": "Miguel Sotaquirá",
      "userId": "08038952820764930757"
     },
     "user_tz": 300
    },
    "id": "ARityZtbZq3E",
    "outputId": "259a39ad-fcf0-4ed1-8b38-308d485b3732"
   },
   "outputs": [],
   "source": [
    "# No resulta fácil ver un patrón. Al igual que con la edad generemos\n",
    "# diferentes rangos:\n",
    "# <0\n",
    "# 0-4000\n",
    "# 4000-8000\n",
    "# 8000-12000\n",
    "# 12000-16000\n",
    "# 16000-20000\n",
    "# >20000\n",
    "\n",
    "# Nueva columna en el dataset: \"grupos_balance\"\n",
    "\n",
    "\n",
    "\n",
    "\n",
    "\n",
    "\n",
    "\n",
    "\n",
    "\n",
    "\n",
    "# Y grafiquemos la tasa de conversión para esta nueva columna\n",
    "#graficar_tasas_conversion('grupos_balance','y_bin',type='bar')\n",
    "\n",
    "\n"
   ]
  },
  {
   "cell_type": "markdown",
   "metadata": {
    "id": "Ca_GdE7hbYne"
   },
   "source": [
    "**Observaciones:**\n",
    "\n",
    "- Al parecer hay un patrón. Si organizamos las barras de forma ascendente observamos:\n",
    "    - <0: 6%\n",
    "    - 0-4K: 12%\n",
    "    - 4K-8K: 16%\n",
    "    - 8K-12K: 16%\n",
    "    - 12K-16K: 15%\n",
    "    - 16K-20K: 9%\n",
    "    - Mayor a 20K: 15%\n",
    "\n",
    "- Exceptuando el rango 16K-20K, en general un mayor nivel de liquidez genera una mayor tasa de conversión.\n",
    "- Podríamos definir 4 rangos de interés para simplificar el análisis:\n",
    "  - 0-4K\n",
    "  - 4K-16K\n",
    "  - 16K-20K\n",
    "  - Mayor a 20K"
   ]
  },
  {
   "cell_type": "code",
   "execution_count": 18,
   "metadata": {
    "colab": {
     "base_uri": "https://localhost:8080/",
     "height": 389
    },
    "executionInfo": {
     "elapsed": 524,
     "status": "ok",
     "timestamp": 1671483066162,
     "user": {
      "displayName": "Miguel Sotaquirá",
      "userId": "08038952820764930757"
     },
     "user_tz": 300
    },
    "id": "rwPram24a5UG",
    "outputId": "f1e215ed-2697-4c91-e960-ccb0effd22ef"
   },
   "outputs": [],
   "source": [
    "# Generemos el dataset únicamente con estos rangos y observemos el comportamiento\n",
    "\n",
    "# Nueva columna en el dataset: \"grupos_balance\"\n",
    "\n",
    "\n",
    "\n",
    "\n",
    "\n",
    "# Y grafiquemos la tasa de conversión para esta nueva columna\n",
    "\n",
    "\n"
   ]
  },
  {
   "cell_type": "code",
   "execution_count": 19,
   "metadata": {
    "executionInfo": {
     "elapsed": 163,
     "status": "ok",
     "timestamp": 1671483101035,
     "user": {
      "displayName": "Miguel Sotaquirá",
      "userId": "08038952820764930757"
     },
     "user_tz": 300
    },
    "id": "XKEEI5wwdie6"
   },
   "outputs": [],
   "source": [
    "# Y eliminemos la columna \"balance\"\n"
   ]
  },
  {
   "cell_type": "markdown",
   "metadata": {
    "id": "1s8W8CtP5hAy"
   },
   "source": [
    "Ahora realizaremos un análisis similar pero para las variables categóricas:"
   ]
  },
  {
   "cell_type": "code",
   "execution_count": null,
   "metadata": {
    "colab": {
     "base_uri": "https://localhost:8080/",
     "height": 391
    },
    "executionInfo": {
     "elapsed": 569,
     "status": "ok",
     "timestamp": 1671483135946,
     "user": {
      "displayName": "Miguel Sotaquirá",
      "userId": "08038952820764930757"
     },
     "user_tz": 300
    },
    "id": "DHqtI6DYeuYU",
    "outputId": "1ad5cc77-3a9d-4d1d-ddca-51c3f2525ecb"
   },
   "outputs": [],
   "source": []
  },
  {
   "cell_type": "markdown",
   "metadata": {
    "id": "RLInhnh0hKye"
   },
   "source": [
    "**Observaciones:**\n",
    "\n",
    "- Las tasas de conversión oscilan entre 8% y 28% aproximadamente\n",
    "- Los trabajos \"retired\" y \"student\" tienen las tasas de conversión más altas (23% y 28%)\n",
    "- \"Job\" podría ser una variable predictora"
   ]
  },
  {
   "cell_type": "code",
   "execution_count": 20,
   "metadata": {
    "colab": {
     "base_uri": "https://localhost:8080/",
     "height": 388
    },
    "executionInfo": {
     "elapsed": 417,
     "status": "ok",
     "timestamp": 1671483185563,
     "user": {
      "displayName": "Miguel Sotaquirá",
      "userId": "08038952820764930757"
     },
     "user_tz": 300
    },
    "id": "TihW7qSsiT3P",
    "outputId": "abdb8206-3cd6-4652-ccbb-6d2aba22493b"
   },
   "outputs": [],
   "source": [
    "# Marital\n"
   ]
  },
  {
   "cell_type": "markdown",
   "metadata": {
    "id": "LdSHqW30jowe"
   },
   "source": [
    "**Observaciones:**\n",
    "\n",
    "- Las tasas de conversión son muy similares para los diferentes niveles en la variable \"marital\"\n",
    "- \"Marital\" parece no ser una variable predictora"
   ]
  },
  {
   "cell_type": "code",
   "execution_count": 21,
   "metadata": {
    "colab": {
     "base_uri": "https://localhost:8080/",
     "height": 388
    },
    "executionInfo": {
     "elapsed": 545,
     "status": "ok",
     "timestamp": 1671483222150,
     "user": {
      "displayName": "Miguel Sotaquirá",
      "userId": "08038952820764930757"
     },
     "user_tz": 300
    },
    "id": "VszmCXtKc1Q5",
    "outputId": "312754d9-974f-4e52-ebb3-ac44e231cb35"
   },
   "outputs": [],
   "source": [
    "# education\n"
   ]
  },
  {
   "cell_type": "markdown",
   "metadata": {
    "id": "Tmhfn58hkQro"
   },
   "source": [
    "**Observaciones:**\n",
    "\n",
    "- Hay un ligero incremento en la tasa de conversión a medida que aumenta el nivel educativo.\n",
    "- \"Education\" podría ser una variable predictora"
   ]
  },
  {
   "cell_type": "code",
   "execution_count": 22,
   "metadata": {
    "colab": {
     "base_uri": "https://localhost:8080/",
     "height": 388
    },
    "executionInfo": {
     "elapsed": 477,
     "status": "ok",
     "timestamp": 1671483268798,
     "user": {
      "displayName": "Miguel Sotaquirá",
      "userId": "08038952820764930757"
     },
     "user_tz": 300
    },
    "id": "5UjH9vcadh7E",
    "outputId": "00ef6626-1945-4c4c-8447-a873ce74dd00"
   },
   "outputs": [],
   "source": [
    "# default\n"
   ]
  },
  {
   "cell_type": "markdown",
   "metadata": {
    "id": "cnxOrvMAk1jK"
   },
   "source": [
    "**Observaciones**:\n",
    "\n",
    "- Las tasas de conversión para quienes no tienen \"default\" son de casi el doble para quienes sí lo tienen (12% vs. 6% aproximadamente).\n",
    "- \"Default\" podría ser una variable predictora"
   ]
  },
  {
   "cell_type": "code",
   "execution_count": 23,
   "metadata": {
    "colab": {
     "base_uri": "https://localhost:8080/",
     "height": 388
    },
    "executionInfo": {
     "elapsed": 508,
     "status": "ok",
     "timestamp": 1671483308118,
     "user": {
      "displayName": "Miguel Sotaquirá",
      "userId": "08038952820764930757"
     },
     "user_tz": 300
    },
    "id": "uLUVbqShdmbL",
    "outputId": "29c7fb73-b75a-43ec-d67f-d0a55849dec0"
   },
   "outputs": [],
   "source": [
    "# housing\n"
   ]
  },
  {
   "cell_type": "markdown",
   "metadata": {
    "id": "Z7hBX6orlMh0"
   },
   "source": [
    "**Observaciones:**\n",
    "\n",
    "- Quienes no tienen crédito hipotecario (\"housing\"=no) definitivamente tienen mayores tasas de conversión.\n",
    "- \"Housing\" es una variable predictora."
   ]
  },
  {
   "cell_type": "code",
   "execution_count": 24,
   "metadata": {
    "colab": {
     "base_uri": "https://localhost:8080/",
     "height": 388
    },
    "executionInfo": {
     "elapsed": 500,
     "status": "ok",
     "timestamp": 1671483321692,
     "user": {
      "displayName": "Miguel Sotaquirá",
      "userId": "08038952820764930757"
     },
     "user_tz": 300
    },
    "id": "K1Am53VGdpzb",
    "outputId": "8d77dc77-7798-4d5a-e95b-a5a59626a235"
   },
   "outputs": [],
   "source": [
    "# loan\n"
   ]
  },
  {
   "cell_type": "markdown",
   "metadata": {
    "id": "lJeLU-j2lepO"
   },
   "source": [
    "**Observaciones:**\n",
    "\n",
    "- Con \"loan\" ocurre algo similar a \"housing\": quienes NO tienen créditos de consumo presentan definitivamente mayores tasas de conversión\n",
    "- \"Loan\" es una variable predictora"
   ]
  },
  {
   "cell_type": "code",
   "execution_count": 25,
   "metadata": {
    "colab": {
     "base_uri": "https://localhost:8080/",
     "height": 388
    },
    "executionInfo": {
     "elapsed": 437,
     "status": "ok",
     "timestamp": 1671483355254,
     "user": {
      "displayName": "Miguel Sotaquirá",
      "userId": "08038952820764930757"
     },
     "user_tz": 300
    },
    "id": "LJYDEf9elpzI",
    "outputId": "18df92c6-649b-4d80-dbff-9ea53c93459a"
   },
   "outputs": [],
   "source": [
    "# poutcome\n"
   ]
  },
  {
   "cell_type": "markdown",
   "metadata": {
    "id": "qAbfA3dGlxUA"
   },
   "source": [
    "**Observaciones:**\n",
    "\n",
    "- Si el cliente adquirió un producto en la campaña anterior (poutcome = success) es más probable que adquiera este nuevo producto con el banco\n",
    "- poutcome definitivamente es una variable predictora"
   ]
  },
  {
   "cell_type": "markdown",
   "metadata": {
    "id": "5_1GMIOqp_16"
   },
   "source": [
    "### Resumen\n",
    "\n",
    "Las variables predictoras con mayor impacto en la tasa de conversión parecen ser, en orden de importancia\n",
    "\n",
    "1. poutcome: casi 70% de conversión para el nivel \"success\"\n",
    "2. job: con tasas de 22% y 28% para 'retired' y 'student'\n",
    "2. grupos_balance y grupos_edad, con tasas de conversión cercanas al 16% para varios intervalos\n",
    "3. default, housing y loan con tasas de conversión entre 12% y 16% para los niveles \"no\"\n",
    "4. marital y education, con niveles de conversión comparables con default, housing y loan."
   ]
  },
  {
   "cell_type": "markdown",
   "metadata": {
    "id": "EoUGFBrDrz9h"
   },
   "source": [
    "##4.3 Análisis bivariado\n",
    "\n",
    "Y podemos ir un paso más allá en este análisis exploratorio y analizar posibles interacciones entre pares de variables predictoras y su impacto en la variable a predecir.\n",
    "\n",
    "Esto se conoce como análisis bivariado.\n",
    "\n",
    "Como existen muchas posibles combinaciones analizaremos únicamente los pares con mayor potencial según el orden de importancia definido en el resumen del análisis univariado.\n",
    "\n",
    "La forma más sencilla de hacer este análisis es a través de gráficas (aunque también se podrían usar herramientas estadísticas más sofisticadas).\n",
    "\n",
    "⚠️⚠️⚠️ ADVERTENCIA ⚠️⚠️⚠️\n",
    "\n",
    "De forma similar a como ocurre con el análisis univariado, este análisis nos mostrará sólo una faceta de las posibles relaciones entre pares de variables predictoras y la variable a predecir, y no es suficiente para extraer conclusiones definitivas (aunque nos dará una pista más detallada en comparación con el análisis univariado)."
   ]
  },
  {
   "cell_type": "code",
   "execution_count": 26,
   "metadata": {
    "executionInfo": {
     "elapsed": 182,
     "status": "ok",
     "timestamp": 1671483697558,
     "user": {
      "displayName": "Miguel Sotaquirá",
      "userId": "08038952820764930757"
     },
     "user_tz": 300
    },
    "id": "XtR-rxdod6ps"
   },
   "outputs": [],
   "source": [
    "# Tasa de conversión para dos columnas\n",
    "def graficar_tc_bivariada(col_list, orden=None):\n",
    "  tc = data.groupby(col_list)['y_bin'].mean().to_frame().reset_index()\n",
    "\n",
    "  # Gráfica\n",
    "  plt.figure(figsize=(13,7))\n",
    "  ax = sns.pointplot(x=tc['y_bin'], y=tc[col_list[0]], hue=tc[col_list[1]], join=False, order=orden)\n",
    "  ax.yaxis.grid(True)\n",
    "  ax.xaxis.grid(True)\n",
    "  plt.title(f'Tasa de conversión para {col_list[0]} y {col_list[1]}')\n",
    "  plt.xlabel('Tasa de conversión (%)')\n",
    "  plt.xlim((0,1));"
   ]
  },
  {
   "cell_type": "code",
   "execution_count": 27,
   "metadata": {
    "colab": {
     "base_uri": "https://localhost:8080/",
     "height": 458
    },
    "executionInfo": {
     "elapsed": 509,
     "status": "ok",
     "timestamp": 1671483737952,
     "user": {
      "displayName": "Miguel Sotaquirá",
      "userId": "08038952820764930757"
     },
     "user_tz": 300
    },
    "id": "b_aYmGND82MR",
    "outputId": "a0b7ad79-17d8-4167-f074-49ec420b4447"
   },
   "outputs": [],
   "source": [
    "# 1. Par poutcome-job\n",
    "\n",
    "\n",
    "# Tasas de conversión superiores al 60% con poutcome==success y\n",
    "# job = unemployed (78%), student/retired (72%), services (70%), \n",
    "# management (68%), self-employed (65%)"
   ]
  },
  {
   "cell_type": "code",
   "execution_count": 28,
   "metadata": {
    "colab": {
     "base_uri": "https://localhost:8080/",
     "height": 458
    },
    "executionInfo": {
     "elapsed": 591,
     "status": "ok",
     "timestamp": 1671483933391,
     "user": {
      "displayName": "Miguel Sotaquirá",
      "userId": "08038952820764930757"
     },
     "user_tz": 300
    },
    "id": "gS7-9ZcX9spD",
    "outputId": "858be7d5-41a6-4342-8785-c8514b85da3a"
   },
   "outputs": [],
   "source": [
    "#2. Par poutcome-grupos_balance\n",
    "\n",
    "\n",
    "# Tasas de conversión superiores al 60% para poutcome=success y\n",
    "# - Ingresos entre 16K y 20K: 100%!!! Es interesante, pues al analizar sólo \n",
    "#   la variable ingresos en este rango se obtienen las menores tasas de conversión\n",
    "# - Ingresos superiores a 20K: 88%\n",
    "# - Ingresos entre 0-16K: 65%"
   ]
  },
  {
   "cell_type": "code",
   "execution_count": 29,
   "metadata": {
    "colab": {
     "base_uri": "https://localhost:8080/",
     "height": 458
    },
    "executionInfo": {
     "elapsed": 488,
     "status": "ok",
     "timestamp": 1671484002158,
     "user": {
      "displayName": "Miguel Sotaquirá",
      "userId": "08038952820764930757"
     },
     "user_tz": 300
    },
    "id": "NEMc0xMTsIZA",
    "outputId": "1541333f-e231-443d-e393-e3379e4fdf60"
   },
   "outputs": [],
   "source": [
    "#3. Par poutcome-grupos_edad\n",
    "\n",
    "\n",
    "# Tasas de conversión superiores al 60% para poutcome=success y\n",
    "# - Edades 18-25: 78%\n",
    "# - Edades >60: 72%\n",
    "# - Edades 26-60: 62%"
   ]
  },
  {
   "cell_type": "code",
   "execution_count": 30,
   "metadata": {
    "colab": {
     "base_uri": "https://localhost:8080/",
     "height": 458
    },
    "executionInfo": {
     "elapsed": 463,
     "status": "ok",
     "timestamp": 1671484083240,
     "user": {
      "displayName": "Miguel Sotaquirá",
      "userId": "08038952820764930757"
     },
     "user_tz": 300
    },
    "id": "uPQfcsrotHkE",
    "outputId": "28e4680e-0412-4ae5-fe55-5a6cd8c28975"
   },
   "outputs": [],
   "source": [
    "#4. Pares poutcome + default/housing/loan\n",
    "\n",
    "\n",
    "# Se alcanzan tasas de conversión entre 60 y 65% para\n",
    "# las combinaciones poutcome=success y default/housing/loan=no"
   ]
  },
  {
   "cell_type": "code",
   "execution_count": 31,
   "metadata": {
    "colab": {
     "base_uri": "https://localhost:8080/",
     "height": 458
    },
    "executionInfo": {
     "elapsed": 1383,
     "status": "ok",
     "timestamp": 1671484137382,
     "user": {
      "displayName": "Miguel Sotaquirá",
      "userId": "08038952820764930757"
     },
     "user_tz": 300
    },
    "id": "Nq6VuEqauJyc",
    "outputId": "8428c60f-80b5-4d4b-df4e-6d716499d912"
   },
   "outputs": [],
   "source": [
    "#4. Pares poutcome + marital/education\n",
    "\n",
    "\n",
    "# - Se alcanzan tasas de conversión entre 60 y 65% independientemente de \"marital\"\n",
    "# - Y lo mismo para \"education\"\n",
    "\n",
    "# Estas variables no resultan tan relevantes"
   ]
  },
  {
   "cell_type": "markdown",
   "metadata": {
    "id": "Uuk2vJSv_XwV"
   },
   "source": [
    "# Conclusiones\n",
    "\n",
    "- La variable \"poutcome\" seguida de las variables \"job\", \"grupos_balance\" y \"grupos_edad\" son las que tienen mayor impacto en la tasa de conversión.\n",
    "- Con este análisis el perfil ideal de cliente sería:\n",
    "    - Debe haber sido contactado previamente por el banco y debe haber adquirido previamente dicho producto (*poutcome == success*)\n",
    "    - Perfil laboral (top-3): desempleado, estudiante, jubilado\n",
    "    - Saldo en su cuenta bancaria: entre 16K y 20K (preferiblemente)\n",
    "    - Edad: entre 18 y 25 años (preferiblemente)\n",
    "    - Que NO cuente con crédito de consumo, crédito hipotecario o que no haya entrado en \"default\"\n",
    "\n",
    "\n",
    "Es posible que la combinación de más de dos variables (análisis multivariado) arroje más luces sobre estos perfiles. Pero en este caso la interpretación de los resultados se dificulta a medida que analizamos de manera simultánea más y más variables.\n",
    "\n",
    "En este punto el paso a seguir sería usar algún modelo de Machine Learning que permita encontrar esos patrones que no resultan fáciles de ver con este análisis exploratorio."
   ]
  }
 ],
 "metadata": {
  "colab": {
   "authorship_tag": "ABX9TyN+M+lW2M10S43D7s77NAwp",
   "provenance": []
  },
  "kernelspec": {
   "display_name": "Python 3 (ipykernel)",
   "language": "python",
   "name": "python3"
  },
  "language_info": {
   "codemirror_mode": {
    "name": "ipython",
    "version": 3
   },
   "file_extension": ".py",
   "mimetype": "text/x-python",
   "name": "python",
   "nbconvert_exporter": "python",
   "pygments_lexer": "ipython3",
   "version": "3.9.21"
  }
 },
 "nbformat": 4,
 "nbformat_minor": 4
}
